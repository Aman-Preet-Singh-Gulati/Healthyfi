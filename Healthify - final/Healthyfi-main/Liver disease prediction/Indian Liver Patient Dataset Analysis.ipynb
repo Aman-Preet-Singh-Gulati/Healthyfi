{
 "cells": [
  {
   "cell_type": "markdown",
   "metadata": {
    "id": "d8NI6eNPm1v2"
   },
   "source": [
    "\n",
    "## Indian Liver Patient Records "
   ]
  },
  {
   "cell_type": "markdown",
   "metadata": {
    "id": "wULe-PlOm1v4"
   },
   "source": [
    "### Description"
   ]
  },
  {
   "cell_type": "markdown",
   "metadata": {
    "id": "ejWQ2GpSm1v4"
   },
   "source": [
    "Patients with Liver disease have been continuously increasing because of excessive consumption of alcohol, inhale of harmful gases, intake of contaminated food, pickles and drugs. This dataset was used to evaluate prediction algorithms in an effort to reduce burden on doctors."
   ]
  },
  {
   "cell_type": "markdown",
   "metadata": {
    "id": "tdhOHLYQm1v6"
   },
   "source": [
    "### Content"
   ]
  },
  {
   "cell_type": "markdown",
   "metadata": {
    "id": "cZ3NNOwem1v6"
   },
   "source": [
    "This data set contains 416 liver patient records and 167 non liver patient records collected from North East of Andhra Pradesh, India. The \"Dataset\" column is a class label used to divide groups into liver patient (liver disease) or not (no disease). This data set contains 441 male patient records and 142 female patient records."
   ]
  },
  {
   "cell_type": "markdown",
   "metadata": {
    "id": "jP8bgQVWm1v8"
   },
   "source": [
    "### Acknowledgements"
   ]
  },
  {
   "cell_type": "markdown",
   "metadata": {
    "id": "ot-Oow5pm1v8"
   },
   "source": [
    "This dataset was downloaded from the UCI ML Repository:\n",
    "\n",
    "Lichman, M. (2013). UCI Machine Learning Repository [http://archive.ics.uci.edu/ml]. Irvine, CA: University of California, School of Information and Computer Science."
   ]
  },
  {
   "cell_type": "markdown",
   "metadata": {
    "id": "zf1z4ySDm1v9"
   },
   "source": [
    "### Problem Statemtent"
   ]
  },
  {
   "cell_type": "markdown",
   "metadata": {
    "id": "I8eEhkc6m1v9"
   },
   "source": [
    "By using these patient records to determine which patients have liver disease and which ones do not."
   ]
  },
  {
   "cell_type": "markdown",
   "metadata": {
    "id": "_O7rdeAgm1v-"
   },
   "source": [
    "### Data Description"
   ]
  },
  {
   "cell_type": "markdown",
   "metadata": {
    "id": "r5t-B8jNm1v-"
   },
   "source": [
    "Any patient whose age exceeded 89 is listed as being of age \"90\".\n",
    "\n",
    "Columns:\n",
    "\n",
    "* Age of the patient\n",
    "\n",
    "* Gender of the patient\n",
    "\n",
    "* Total Bilirubin\n",
    ">Bilirubin is an orange-yellow pigment that occurs normally when part of your red blood cells break down.\n",
    "A bilirubin test measures the amount of bilirubin in your blood. It’s used to help find the cause of health conditions like jaundice, anemia, and liver disease.\n",
    " \n",
    "* Direct Bilirubin\n",
    ">Bilirubin attached by the liver to glucuronic acid, a glucose-derived acid, is called direct, or conjugated, bilirubin. Bilirubin not attached to glucuronic acid is called indirect\n",
    "\n",
    "* Alkaline Phosphotase\n",
    ">Alkaline phosphatase (ALP) is an enzyme in a person's blood that helps break down proteins.Using an ALP test, it is possible to measure how much of this enzyme is circulating in a person’s blood.\n",
    "\n",
    "* Alamine Aminotransferase\n",
    "> Alanine aminotransferase (ALT) is an enzyme found primarily in the liver and kidney.   ALT is increased with liver damage and is used to screen for and/or monitor liver disease. \n",
    "\n",
    "* Aspartate Aminotransferase\n",
    "> AST (aspartate aminotransferase) is an enzyme that is found mostly in the liver, but also in muscles. When your liver is damaged, it releases AST into your bloodstream. An AST blood test measures the amount of AST in your blood. The test can help your health care provider diagnose liver damage or disease.\n",
    "\n",
    "* Total Protiens\n",
    "> Albumin and globulin are two types of protein in your body. The total protein test measures the total amount albumin and globulin in your body. \n",
    "\n",
    "* Albumin\n",
    "\n",
    "* Albumin and Globulin Ratio\n",
    "    \n",
    "**Dataset: field used to split the data into two sets (patient with liver disease, or no disease)**"
   ]
  },
  {
   "cell_type": "markdown",
   "metadata": {
    "id": "ysFMa2ksm1wB"
   },
   "source": [
    "### Importing Liabraries"
   ]
  },
  {
   "cell_type": "code",
   "execution_count": 1,
   "metadata": {
    "executionInfo": {
     "elapsed": 2219,
     "status": "ok",
     "timestamp": 1602157975208,
     "user": {
      "displayName": "Pianalytix Vrec",
      "photoUrl": "",
      "userId": "08286299111597749388"
     },
     "user_tz": -330
    },
    "id": "gKgJKe9cm1wB"
   },
   "outputs": [],
   "source": [
    "import pandas as pd\n",
    "import numpy as np\n",
    "import matplotlib.pyplot as plt\n",
    "import seaborn as sns\n",
    "%matplotlib inline\n",
    "\n",
    "from sklearn.preprocessing import LabelEncoder\n",
    "\n",
    "import warnings \n",
    "warnings.filterwarnings('ignore')\n",
    "\n",
    "from sklearn.metrics import accuracy_score\n",
    "from sklearn.model_selection import train_test_split\n",
    "from sklearn.metrics import classification_report, confusion_matrix\n",
    "from sklearn import linear_model\n",
    "from sklearn.linear_model import LogisticRegression\n",
    "from sklearn.svm import SVC, LinearSVC\n",
    "from sklearn.ensemble import RandomForestClassifier\n",
    "from sklearn.naive_bayes import GaussianNB"
   ]
  },
  {
   "cell_type": "markdown",
   "metadata": {
    "id": "JSkCULS3m1wG"
   },
   "source": [
    "### Reading the Data from the CSV file"
   ]
  },
  {
   "cell_type": "code",
   "execution_count": 2,
   "metadata": {
    "executionInfo": {
     "elapsed": 2127,
     "status": "ok",
     "timestamp": 1602157975212,
     "user": {
      "displayName": "Pianalytix Vrec",
      "photoUrl": "",
      "userId": "08286299111597749388"
     },
     "user_tz": -330
    },
    "id": "dJ44jAf_m1wH"
   },
   "outputs": [],
   "source": [
    "liver_df = pd.read_csv(\"indian_liver_patient.csv\")"
   ]
  },
  {
   "cell_type": "code",
   "execution_count": 3,
   "metadata": {
    "colab": {
     "base_uri": "https://localhost:8080/",
     "height": 215
    },
    "executionInfo": {
     "elapsed": 2054,
     "status": "ok",
     "timestamp": 1602157975213,
     "user": {
      "displayName": "Pianalytix Vrec",
      "photoUrl": "",
      "userId": "08286299111597749388"
     },
     "user_tz": -330
    },
    "id": "_Y0CpDODm1wJ",
    "outputId": "c11122f2-8572-42d4-9ee0-fd8cc53a0386"
   },
   "outputs": [
    {
     "data": {
      "text/html": [
       "<div>\n",
       "<style scoped>\n",
       "    .dataframe tbody tr th:only-of-type {\n",
       "        vertical-align: middle;\n",
       "    }\n",
       "\n",
       "    .dataframe tbody tr th {\n",
       "        vertical-align: top;\n",
       "    }\n",
       "\n",
       "    .dataframe thead th {\n",
       "        text-align: right;\n",
       "    }\n",
       "</style>\n",
       "<table border=\"1\" class=\"dataframe\">\n",
       "  <thead>\n",
       "    <tr style=\"text-align: right;\">\n",
       "      <th></th>\n",
       "      <th>Age</th>\n",
       "      <th>Gender</th>\n",
       "      <th>Total_Bilirubin</th>\n",
       "      <th>Direct_Bilirubin</th>\n",
       "      <th>Alkaline_Phosphotase</th>\n",
       "      <th>Alamine_Aminotransferase</th>\n",
       "      <th>Aspartate_Aminotransferase</th>\n",
       "      <th>Total_Protiens</th>\n",
       "      <th>Albumin</th>\n",
       "      <th>Albumin_and_Globulin_Ratio</th>\n",
       "      <th>Dataset</th>\n",
       "    </tr>\n",
       "  </thead>\n",
       "  <tbody>\n",
       "    <tr>\n",
       "      <th>0</th>\n",
       "      <td>65</td>\n",
       "      <td>Female</td>\n",
       "      <td>0.7</td>\n",
       "      <td>0.1</td>\n",
       "      <td>187</td>\n",
       "      <td>16</td>\n",
       "      <td>18</td>\n",
       "      <td>6.8</td>\n",
       "      <td>3.3</td>\n",
       "      <td>0.90</td>\n",
       "      <td>1</td>\n",
       "    </tr>\n",
       "    <tr>\n",
       "      <th>1</th>\n",
       "      <td>62</td>\n",
       "      <td>Male</td>\n",
       "      <td>10.9</td>\n",
       "      <td>5.5</td>\n",
       "      <td>699</td>\n",
       "      <td>64</td>\n",
       "      <td>100</td>\n",
       "      <td>7.5</td>\n",
       "      <td>3.2</td>\n",
       "      <td>0.74</td>\n",
       "      <td>1</td>\n",
       "    </tr>\n",
       "    <tr>\n",
       "      <th>2</th>\n",
       "      <td>62</td>\n",
       "      <td>Male</td>\n",
       "      <td>7.3</td>\n",
       "      <td>4.1</td>\n",
       "      <td>490</td>\n",
       "      <td>60</td>\n",
       "      <td>68</td>\n",
       "      <td>7.0</td>\n",
       "      <td>3.3</td>\n",
       "      <td>0.89</td>\n",
       "      <td>1</td>\n",
       "    </tr>\n",
       "    <tr>\n",
       "      <th>3</th>\n",
       "      <td>58</td>\n",
       "      <td>Male</td>\n",
       "      <td>1.0</td>\n",
       "      <td>0.4</td>\n",
       "      <td>182</td>\n",
       "      <td>14</td>\n",
       "      <td>20</td>\n",
       "      <td>6.8</td>\n",
       "      <td>3.4</td>\n",
       "      <td>1.00</td>\n",
       "      <td>1</td>\n",
       "    </tr>\n",
       "    <tr>\n",
       "      <th>4</th>\n",
       "      <td>72</td>\n",
       "      <td>Male</td>\n",
       "      <td>3.9</td>\n",
       "      <td>2.0</td>\n",
       "      <td>195</td>\n",
       "      <td>27</td>\n",
       "      <td>59</td>\n",
       "      <td>7.3</td>\n",
       "      <td>2.4</td>\n",
       "      <td>0.40</td>\n",
       "      <td>1</td>\n",
       "    </tr>\n",
       "  </tbody>\n",
       "</table>\n",
       "</div>"
      ],
      "text/plain": [
       "   Age  Gender  Total_Bilirubin  Direct_Bilirubin  Alkaline_Phosphotase  \\\n",
       "0   65  Female              0.7               0.1                   187   \n",
       "1   62    Male             10.9               5.5                   699   \n",
       "2   62    Male              7.3               4.1                   490   \n",
       "3   58    Male              1.0               0.4                   182   \n",
       "4   72    Male              3.9               2.0                   195   \n",
       "\n",
       "   Alamine_Aminotransferase  Aspartate_Aminotransferase  Total_Protiens  \\\n",
       "0                        16                          18             6.8   \n",
       "1                        64                         100             7.5   \n",
       "2                        60                          68             7.0   \n",
       "3                        14                          20             6.8   \n",
       "4                        27                          59             7.3   \n",
       "\n",
       "   Albumin  Albumin_and_Globulin_Ratio  Dataset  \n",
       "0      3.3                        0.90        1  \n",
       "1      3.2                        0.74        1  \n",
       "2      3.3                        0.89        1  \n",
       "3      3.4                        1.00        1  \n",
       "4      2.4                        0.40        1  "
      ]
     },
     "execution_count": 3,
     "metadata": {},
     "output_type": "execute_result"
    }
   ],
   "source": [
    "liver_df.head()"
   ]
  },
  {
   "cell_type": "markdown",
   "metadata": {
    "id": "tG5rQ122m1wN"
   },
   "source": [
    "### Exploratory Data Analysis (EDA)"
   ]
  },
  {
   "cell_type": "code",
   "execution_count": 4,
   "metadata": {
    "colab": {
     "base_uri": "https://localhost:8080/",
     "height": 101
    },
    "executionInfo": {
     "elapsed": 1988,
     "status": "ok",
     "timestamp": 1602157975215,
     "user": {
      "displayName": "Pianalytix Vrec",
      "photoUrl": "",
      "userId": "08286299111597749388"
     },
     "user_tz": -330
    },
    "id": "JcLENHZNm1wN",
    "outputId": "f37f261d-8173-4cb6-a44e-a1082c8a1073"
   },
   "outputs": [
    {
     "data": {
      "text/plain": [
       "Index(['Age', 'Gender', 'Total_Bilirubin', 'Direct_Bilirubin',\n",
       "       'Alkaline_Phosphotase', 'Alamine_Aminotransferase',\n",
       "       'Aspartate_Aminotransferase', 'Total_Protiens', 'Albumin',\n",
       "       'Albumin_and_Globulin_Ratio', 'Dataset'],\n",
       "      dtype='object')"
      ]
     },
     "execution_count": 4,
     "metadata": {},
     "output_type": "execute_result"
    }
   ],
   "source": [
    "# Total number of columns in the dataset\n",
    "liver_df.columns"
   ]
  },
  {
   "cell_type": "code",
   "execution_count": 5,
   "metadata": {
    "colab": {
     "base_uri": "https://localhost:8080/",
     "height": 319
    },
    "executionInfo": {
     "elapsed": 1916,
     "status": "ok",
     "timestamp": 1602157975216,
     "user": {
      "displayName": "Pianalytix Vrec",
      "photoUrl": "",
      "userId": "08286299111597749388"
     },
     "user_tz": -330
    },
    "id": "O-yxyaSzm1wQ",
    "outputId": "9dc30395-ab51-4146-8705-138ccb8cc330"
   },
   "outputs": [
    {
     "name": "stdout",
     "output_type": "stream",
     "text": [
      "<class 'pandas.core.frame.DataFrame'>\n",
      "RangeIndex: 583 entries, 0 to 582\n",
      "Data columns (total 11 columns):\n",
      " #   Column                      Non-Null Count  Dtype  \n",
      "---  ------                      --------------  -----  \n",
      " 0   Age                         583 non-null    int64  \n",
      " 1   Gender                      583 non-null    object \n",
      " 2   Total_Bilirubin             583 non-null    float64\n",
      " 3   Direct_Bilirubin            583 non-null    float64\n",
      " 4   Alkaline_Phosphotase        583 non-null    int64  \n",
      " 5   Alamine_Aminotransferase    583 non-null    int64  \n",
      " 6   Aspartate_Aminotransferase  583 non-null    int64  \n",
      " 7   Total_Protiens              583 non-null    float64\n",
      " 8   Albumin                     583 non-null    float64\n",
      " 9   Albumin_and_Globulin_Ratio  579 non-null    float64\n",
      " 10  Dataset                     583 non-null    int64  \n",
      "dtypes: float64(5), int64(5), object(1)\n",
      "memory usage: 50.2+ KB\n"
     ]
    }
   ],
   "source": [
    "# Information about the dataset\n",
    "liver_df.info()"
   ]
  },
  {
   "cell_type": "code",
   "execution_count": 6,
   "metadata": {
    "colab": {
     "base_uri": "https://localhost:8080/",
     "height": 304
    },
    "executionInfo": {
     "elapsed": 2366,
     "status": "ok",
     "timestamp": 1602157975681,
     "user": {
      "displayName": "Pianalytix Vrec",
      "photoUrl": "",
      "userId": "08286299111597749388"
     },
     "user_tz": -330
    },
    "id": "1-SljaeIm1wW",
    "outputId": "76dcf676-9fc1-4f9b-bc8d-8f363e1db0b7"
   },
   "outputs": [
    {
     "data": {
      "text/html": [
       "<div>\n",
       "<style scoped>\n",
       "    .dataframe tbody tr th:only-of-type {\n",
       "        vertical-align: middle;\n",
       "    }\n",
       "\n",
       "    .dataframe tbody tr th {\n",
       "        vertical-align: top;\n",
       "    }\n",
       "\n",
       "    .dataframe thead th {\n",
       "        text-align: right;\n",
       "    }\n",
       "</style>\n",
       "<table border=\"1\" class=\"dataframe\">\n",
       "  <thead>\n",
       "    <tr style=\"text-align: right;\">\n",
       "      <th></th>\n",
       "      <th>Age</th>\n",
       "      <th>Total_Bilirubin</th>\n",
       "      <th>Direct_Bilirubin</th>\n",
       "      <th>Alkaline_Phosphotase</th>\n",
       "      <th>Alamine_Aminotransferase</th>\n",
       "      <th>Aspartate_Aminotransferase</th>\n",
       "      <th>Total_Protiens</th>\n",
       "      <th>Albumin</th>\n",
       "      <th>Albumin_and_Globulin_Ratio</th>\n",
       "      <th>Dataset</th>\n",
       "    </tr>\n",
       "  </thead>\n",
       "  <tbody>\n",
       "    <tr>\n",
       "      <th>count</th>\n",
       "      <td>583.000000</td>\n",
       "      <td>583.000000</td>\n",
       "      <td>583.000000</td>\n",
       "      <td>583.000000</td>\n",
       "      <td>583.000000</td>\n",
       "      <td>583.000000</td>\n",
       "      <td>583.000000</td>\n",
       "      <td>583.000000</td>\n",
       "      <td>579.000000</td>\n",
       "      <td>583.000000</td>\n",
       "    </tr>\n",
       "    <tr>\n",
       "      <th>mean</th>\n",
       "      <td>44.746141</td>\n",
       "      <td>3.298799</td>\n",
       "      <td>1.486106</td>\n",
       "      <td>290.576329</td>\n",
       "      <td>80.713551</td>\n",
       "      <td>109.910806</td>\n",
       "      <td>6.483190</td>\n",
       "      <td>3.141852</td>\n",
       "      <td>0.947064</td>\n",
       "      <td>1.286449</td>\n",
       "    </tr>\n",
       "    <tr>\n",
       "      <th>std</th>\n",
       "      <td>16.189833</td>\n",
       "      <td>6.209522</td>\n",
       "      <td>2.808498</td>\n",
       "      <td>242.937989</td>\n",
       "      <td>182.620356</td>\n",
       "      <td>288.918529</td>\n",
       "      <td>1.085451</td>\n",
       "      <td>0.795519</td>\n",
       "      <td>0.319592</td>\n",
       "      <td>0.452490</td>\n",
       "    </tr>\n",
       "    <tr>\n",
       "      <th>min</th>\n",
       "      <td>4.000000</td>\n",
       "      <td>0.400000</td>\n",
       "      <td>0.100000</td>\n",
       "      <td>63.000000</td>\n",
       "      <td>10.000000</td>\n",
       "      <td>10.000000</td>\n",
       "      <td>2.700000</td>\n",
       "      <td>0.900000</td>\n",
       "      <td>0.300000</td>\n",
       "      <td>1.000000</td>\n",
       "    </tr>\n",
       "    <tr>\n",
       "      <th>25%</th>\n",
       "      <td>33.000000</td>\n",
       "      <td>0.800000</td>\n",
       "      <td>0.200000</td>\n",
       "      <td>175.500000</td>\n",
       "      <td>23.000000</td>\n",
       "      <td>25.000000</td>\n",
       "      <td>5.800000</td>\n",
       "      <td>2.600000</td>\n",
       "      <td>0.700000</td>\n",
       "      <td>1.000000</td>\n",
       "    </tr>\n",
       "    <tr>\n",
       "      <th>50%</th>\n",
       "      <td>45.000000</td>\n",
       "      <td>1.000000</td>\n",
       "      <td>0.300000</td>\n",
       "      <td>208.000000</td>\n",
       "      <td>35.000000</td>\n",
       "      <td>42.000000</td>\n",
       "      <td>6.600000</td>\n",
       "      <td>3.100000</td>\n",
       "      <td>0.930000</td>\n",
       "      <td>1.000000</td>\n",
       "    </tr>\n",
       "    <tr>\n",
       "      <th>75%</th>\n",
       "      <td>58.000000</td>\n",
       "      <td>2.600000</td>\n",
       "      <td>1.300000</td>\n",
       "      <td>298.000000</td>\n",
       "      <td>60.500000</td>\n",
       "      <td>87.000000</td>\n",
       "      <td>7.200000</td>\n",
       "      <td>3.800000</td>\n",
       "      <td>1.100000</td>\n",
       "      <td>2.000000</td>\n",
       "    </tr>\n",
       "    <tr>\n",
       "      <th>max</th>\n",
       "      <td>90.000000</td>\n",
       "      <td>75.000000</td>\n",
       "      <td>19.700000</td>\n",
       "      <td>2110.000000</td>\n",
       "      <td>2000.000000</td>\n",
       "      <td>4929.000000</td>\n",
       "      <td>9.600000</td>\n",
       "      <td>5.500000</td>\n",
       "      <td>2.800000</td>\n",
       "      <td>2.000000</td>\n",
       "    </tr>\n",
       "  </tbody>\n",
       "</table>\n",
       "</div>"
      ],
      "text/plain": [
       "              Age  Total_Bilirubin  Direct_Bilirubin  Alkaline_Phosphotase  \\\n",
       "count  583.000000       583.000000        583.000000            583.000000   \n",
       "mean    44.746141         3.298799          1.486106            290.576329   \n",
       "std     16.189833         6.209522          2.808498            242.937989   \n",
       "min      4.000000         0.400000          0.100000             63.000000   \n",
       "25%     33.000000         0.800000          0.200000            175.500000   \n",
       "50%     45.000000         1.000000          0.300000            208.000000   \n",
       "75%     58.000000         2.600000          1.300000            298.000000   \n",
       "max     90.000000        75.000000         19.700000           2110.000000   \n",
       "\n",
       "       Alamine_Aminotransferase  Aspartate_Aminotransferase  Total_Protiens  \\\n",
       "count                583.000000                  583.000000      583.000000   \n",
       "mean                  80.713551                  109.910806        6.483190   \n",
       "std                  182.620356                  288.918529        1.085451   \n",
       "min                   10.000000                   10.000000        2.700000   \n",
       "25%                   23.000000                   25.000000        5.800000   \n",
       "50%                   35.000000                   42.000000        6.600000   \n",
       "75%                   60.500000                   87.000000        7.200000   \n",
       "max                 2000.000000                 4929.000000        9.600000   \n",
       "\n",
       "          Albumin  Albumin_and_Globulin_Ratio     Dataset  \n",
       "count  583.000000                  579.000000  583.000000  \n",
       "mean     3.141852                    0.947064    1.286449  \n",
       "std      0.795519                    0.319592    0.452490  \n",
       "min      0.900000                    0.300000    1.000000  \n",
       "25%      2.600000                    0.700000    1.000000  \n",
       "50%      3.100000                    0.930000    1.000000  \n",
       "75%      3.800000                    1.100000    2.000000  \n",
       "max      5.500000                    2.800000    2.000000  "
      ]
     },
     "execution_count": 6,
     "metadata": {},
     "output_type": "execute_result"
    }
   ],
   "source": [
    "# To know more about the dataset\n",
    "liver_df.describe()"
   ]
  },
  {
   "cell_type": "code",
   "execution_count": 7,
   "metadata": {
    "colab": {
     "base_uri": "https://localhost:8080/",
     "height": 422
    },
    "executionInfo": {
     "elapsed": 2338,
     "status": "ok",
     "timestamp": 1602157975690,
     "user": {
      "displayName": "Pianalytix Vrec",
      "photoUrl": "",
      "userId": "08286299111597749388"
     },
     "user_tz": -330
    },
    "id": "O3duQC32m1wY",
    "outputId": "f5f80a0a-45be-4b73-fde7-7c3e04b27fc3"
   },
   "outputs": [
    {
     "data": {
      "text/html": [
       "<div>\n",
       "<style scoped>\n",
       "    .dataframe tbody tr th:only-of-type {\n",
       "        vertical-align: middle;\n",
       "    }\n",
       "\n",
       "    .dataframe tbody tr th {\n",
       "        vertical-align: top;\n",
       "    }\n",
       "\n",
       "    .dataframe thead th {\n",
       "        text-align: right;\n",
       "    }\n",
       "</style>\n",
       "<table border=\"1\" class=\"dataframe\">\n",
       "  <thead>\n",
       "    <tr style=\"text-align: right;\">\n",
       "      <th></th>\n",
       "      <th>Age</th>\n",
       "      <th>Gender</th>\n",
       "      <th>Total_Bilirubin</th>\n",
       "      <th>Direct_Bilirubin</th>\n",
       "      <th>Alkaline_Phosphotase</th>\n",
       "      <th>Alamine_Aminotransferase</th>\n",
       "      <th>Aspartate_Aminotransferase</th>\n",
       "      <th>Total_Protiens</th>\n",
       "      <th>Albumin</th>\n",
       "      <th>Albumin_and_Globulin_Ratio</th>\n",
       "      <th>Dataset</th>\n",
       "    </tr>\n",
       "  </thead>\n",
       "  <tbody>\n",
       "    <tr>\n",
       "      <th>0</th>\n",
       "      <td>False</td>\n",
       "      <td>False</td>\n",
       "      <td>False</td>\n",
       "      <td>False</td>\n",
       "      <td>False</td>\n",
       "      <td>False</td>\n",
       "      <td>False</td>\n",
       "      <td>False</td>\n",
       "      <td>False</td>\n",
       "      <td>False</td>\n",
       "      <td>False</td>\n",
       "    </tr>\n",
       "    <tr>\n",
       "      <th>1</th>\n",
       "      <td>False</td>\n",
       "      <td>False</td>\n",
       "      <td>False</td>\n",
       "      <td>False</td>\n",
       "      <td>False</td>\n",
       "      <td>False</td>\n",
       "      <td>False</td>\n",
       "      <td>False</td>\n",
       "      <td>False</td>\n",
       "      <td>False</td>\n",
       "      <td>False</td>\n",
       "    </tr>\n",
       "    <tr>\n",
       "      <th>2</th>\n",
       "      <td>False</td>\n",
       "      <td>False</td>\n",
       "      <td>False</td>\n",
       "      <td>False</td>\n",
       "      <td>False</td>\n",
       "      <td>False</td>\n",
       "      <td>False</td>\n",
       "      <td>False</td>\n",
       "      <td>False</td>\n",
       "      <td>False</td>\n",
       "      <td>False</td>\n",
       "    </tr>\n",
       "    <tr>\n",
       "      <th>3</th>\n",
       "      <td>False</td>\n",
       "      <td>False</td>\n",
       "      <td>False</td>\n",
       "      <td>False</td>\n",
       "      <td>False</td>\n",
       "      <td>False</td>\n",
       "      <td>False</td>\n",
       "      <td>False</td>\n",
       "      <td>False</td>\n",
       "      <td>False</td>\n",
       "      <td>False</td>\n",
       "    </tr>\n",
       "    <tr>\n",
       "      <th>4</th>\n",
       "      <td>False</td>\n",
       "      <td>False</td>\n",
       "      <td>False</td>\n",
       "      <td>False</td>\n",
       "      <td>False</td>\n",
       "      <td>False</td>\n",
       "      <td>False</td>\n",
       "      <td>False</td>\n",
       "      <td>False</td>\n",
       "      <td>False</td>\n",
       "      <td>False</td>\n",
       "    </tr>\n",
       "    <tr>\n",
       "      <th>...</th>\n",
       "      <td>...</td>\n",
       "      <td>...</td>\n",
       "      <td>...</td>\n",
       "      <td>...</td>\n",
       "      <td>...</td>\n",
       "      <td>...</td>\n",
       "      <td>...</td>\n",
       "      <td>...</td>\n",
       "      <td>...</td>\n",
       "      <td>...</td>\n",
       "      <td>...</td>\n",
       "    </tr>\n",
       "    <tr>\n",
       "      <th>578</th>\n",
       "      <td>False</td>\n",
       "      <td>False</td>\n",
       "      <td>False</td>\n",
       "      <td>False</td>\n",
       "      <td>False</td>\n",
       "      <td>False</td>\n",
       "      <td>False</td>\n",
       "      <td>False</td>\n",
       "      <td>False</td>\n",
       "      <td>False</td>\n",
       "      <td>False</td>\n",
       "    </tr>\n",
       "    <tr>\n",
       "      <th>579</th>\n",
       "      <td>False</td>\n",
       "      <td>False</td>\n",
       "      <td>False</td>\n",
       "      <td>False</td>\n",
       "      <td>False</td>\n",
       "      <td>False</td>\n",
       "      <td>False</td>\n",
       "      <td>False</td>\n",
       "      <td>False</td>\n",
       "      <td>False</td>\n",
       "      <td>False</td>\n",
       "    </tr>\n",
       "    <tr>\n",
       "      <th>580</th>\n",
       "      <td>False</td>\n",
       "      <td>False</td>\n",
       "      <td>False</td>\n",
       "      <td>False</td>\n",
       "      <td>False</td>\n",
       "      <td>False</td>\n",
       "      <td>False</td>\n",
       "      <td>False</td>\n",
       "      <td>False</td>\n",
       "      <td>False</td>\n",
       "      <td>False</td>\n",
       "    </tr>\n",
       "    <tr>\n",
       "      <th>581</th>\n",
       "      <td>False</td>\n",
       "      <td>False</td>\n",
       "      <td>False</td>\n",
       "      <td>False</td>\n",
       "      <td>False</td>\n",
       "      <td>False</td>\n",
       "      <td>False</td>\n",
       "      <td>False</td>\n",
       "      <td>False</td>\n",
       "      <td>False</td>\n",
       "      <td>False</td>\n",
       "    </tr>\n",
       "    <tr>\n",
       "      <th>582</th>\n",
       "      <td>False</td>\n",
       "      <td>False</td>\n",
       "      <td>False</td>\n",
       "      <td>False</td>\n",
       "      <td>False</td>\n",
       "      <td>False</td>\n",
       "      <td>False</td>\n",
       "      <td>False</td>\n",
       "      <td>False</td>\n",
       "      <td>False</td>\n",
       "      <td>False</td>\n",
       "    </tr>\n",
       "  </tbody>\n",
       "</table>\n",
       "<p>583 rows × 11 columns</p>\n",
       "</div>"
      ],
      "text/plain": [
       "       Age  Gender  Total_Bilirubin  Direct_Bilirubin  Alkaline_Phosphotase  \\\n",
       "0    False   False            False             False                 False   \n",
       "1    False   False            False             False                 False   \n",
       "2    False   False            False             False                 False   \n",
       "3    False   False            False             False                 False   \n",
       "4    False   False            False             False                 False   \n",
       "..     ...     ...              ...               ...                   ...   \n",
       "578  False   False            False             False                 False   \n",
       "579  False   False            False             False                 False   \n",
       "580  False   False            False             False                 False   \n",
       "581  False   False            False             False                 False   \n",
       "582  False   False            False             False                 False   \n",
       "\n",
       "     Alamine_Aminotransferase  Aspartate_Aminotransferase  Total_Protiens  \\\n",
       "0                       False                       False           False   \n",
       "1                       False                       False           False   \n",
       "2                       False                       False           False   \n",
       "3                       False                       False           False   \n",
       "4                       False                       False           False   \n",
       "..                        ...                         ...             ...   \n",
       "578                     False                       False           False   \n",
       "579                     False                       False           False   \n",
       "580                     False                       False           False   \n",
       "581                     False                       False           False   \n",
       "582                     False                       False           False   \n",
       "\n",
       "     Albumin  Albumin_and_Globulin_Ratio  Dataset  \n",
       "0      False                       False    False  \n",
       "1      False                       False    False  \n",
       "2      False                       False    False  \n",
       "3      False                       False    False  \n",
       "4      False                       False    False  \n",
       "..       ...                         ...      ...  \n",
       "578    False                       False    False  \n",
       "579    False                       False    False  \n",
       "580    False                       False    False  \n",
       "581    False                       False    False  \n",
       "582    False                       False    False  \n",
       "\n",
       "[583 rows x 11 columns]"
      ]
     },
     "execution_count": 7,
     "metadata": {},
     "output_type": "execute_result"
    }
   ],
   "source": [
    "# Checking if there is some null values or not\n",
    "liver_df.isnull()"
   ]
  },
  {
   "cell_type": "code",
   "execution_count": 8,
   "metadata": {
    "colab": {
     "base_uri": "https://localhost:8080/",
     "height": 218
    },
    "executionInfo": {
     "elapsed": 2319,
     "status": "ok",
     "timestamp": 1602157975691,
     "user": {
      "displayName": "Pianalytix Vrec",
      "photoUrl": "",
      "userId": "08286299111597749388"
     },
     "user_tz": -330
    },
    "id": "ToEEbDEsm1wb",
    "outputId": "7817c485-ab18-4a57-c1ed-1da659dc98fa"
   },
   "outputs": [
    {
     "data": {
      "text/plain": [
       "Age                           0\n",
       "Gender                        0\n",
       "Total_Bilirubin               0\n",
       "Direct_Bilirubin              0\n",
       "Alkaline_Phosphotase          0\n",
       "Alamine_Aminotransferase      0\n",
       "Aspartate_Aminotransferase    0\n",
       "Total_Protiens                0\n",
       "Albumin                       0\n",
       "Albumin_and_Globulin_Ratio    4\n",
       "Dataset                       0\n",
       "dtype: int64"
      ]
     },
     "execution_count": 8,
     "metadata": {},
     "output_type": "execute_result"
    }
   ],
   "source": [
    "# # Checking if there is some null values or not\n",
    "liver_df.isnull().sum()"
   ]
  },
  {
   "cell_type": "markdown",
   "metadata": {
    "id": "sBnOxaJLm1wd"
   },
   "source": [
    "### Data Visualization"
   ]
  },
  {
   "cell_type": "code",
   "execution_count": 9,
   "metadata": {
    "colab": {
     "base_uri": "https://localhost:8080/",
     "height": 313
    },
    "executionInfo": {
     "elapsed": 2304,
     "status": "ok",
     "timestamp": 1602157975692,
     "user": {
      "displayName": "Pianalytix Vrec",
      "photoUrl": "",
      "userId": "08286299111597749388"
     },
     "user_tz": -330
    },
    "id": "xpfp7dggm1we",
    "outputId": "468981a5-d5fc-4206-f07f-10e74dfbcb90"
   },
   "outputs": [
    {
     "name": "stdout",
     "output_type": "stream",
     "text": [
      "Number of patients diagnosed with liver disease:  416\n",
      "Number of patients not diagnosed with liver disease:  167\n"
     ]
    },
    {
     "data": {
      "image/png": "[encoded data removed]",
      "text/plain": [
       "<Figure size 432x288 with 1 Axes>"
      ]
     },
     "metadata": {
      "needs_background": "light"
     },
     "output_type": "display_data"
    }
   ],
   "source": [
    "# Plotting the Number of patients with liver disease vs Number of patients with no liver disease\n",
    "sns.countplot(data=liver_df, x = 'Dataset', label='Count')\n",
    "\n",
    "LD, NLD = liver_df['Dataset'].value_counts()\n",
    "print('Number of patients diagnosed with liver disease: ',LD)\n",
    "print('Number of patients not diagnosed with liver disease: ',NLD)"
   ]
  },
  {
   "cell_type": "code",
   "execution_count": 10,
   "metadata": {
    "colab": {
     "base_uri": "https://localhost:8080/",
     "height": 313
    },
    "executionInfo": {
     "elapsed": 2290,
     "status": "ok",
     "timestamp": 1602157975701,
     "user": {
      "displayName": "Pianalytix Vrec",
      "photoUrl": "",
      "userId": "08286299111597749388"
     },
     "user_tz": -330
    },
    "id": "0IUxGVzXm1wg",
    "outputId": "80797772-87b4-4e37-f363-6e14597b3265"
   },
   "outputs": [
    {
     "name": "stdout",
     "output_type": "stream",
     "text": [
      "Number of patients that are male:  441\n",
      "Number of patients that are female:  142\n"
     ]
    },
    {
     "data": {
      "image/png": "[encoded data removed]",
      "text/plain": [
       "<Figure size 432x288 with 1 Axes>"
      ]
     },
     "metadata": {
      "needs_background": "light"
     },
     "output_type": "display_data"
    }
   ],
   "source": [
    "# Plotting the Number of Male and Female patients\n",
    "sns.countplot(data=liver_df, x = 'Gender', label='Count')\n",
    "\n",
    "M, F = liver_df['Gender'].value_counts()\n",
    "print('Number of patients that are male: ',M)\n",
    "print('Number of patients that are female: ',F)"
   ]
  },
  {
   "cell_type": "code",
   "execution_count": 11,
   "metadata": {
    "colab": {
     "base_uri": "https://localhost:8080/",
     "height": 400
    },
    "executionInfo": {
     "elapsed": 2848,
     "status": "ok",
     "timestamp": 1602157976276,
     "user": {
      "displayName": "Pianalytix Vrec",
      "photoUrl": "",
      "userId": "08286299111597749388"
     },
     "user_tz": -330
    },
    "id": "QT61bhMHm1wi",
    "outputId": "53421f13-df7d-457a-8b0e-14b534b860d7"
   },
   "outputs": [
    {
     "data": {
      "text/plain": [
       "<seaborn.axisgrid.FacetGrid at 0x1c644f30700>"
      ]
     },
     "execution_count": 11,
     "metadata": {},
     "output_type": "execute_result"
    },
    {
     "data": {
      "image/png": "[encoded data removed]",
      "text/plain": [
       "<Figure size 407.125x360 with 1 Axes>"
      ]
     },
     "metadata": {
      "needs_background": "light"
     },
     "output_type": "display_data"
    }
   ],
   "source": [
    "# Plotting patient Age vs Gender\n",
    "sns.catplot(x=\"Age\", y=\"Gender\", hue=\"Dataset\", data=liver_df)"
   ]
  },
  {
   "cell_type": "code",
   "execution_count": 12,
   "metadata": {
    "colab": {
     "base_uri": "https://localhost:8080/",
     "height": 166
    },
    "executionInfo": {
     "elapsed": 2834,
     "status": "ok",
     "timestamp": 1602157976278,
     "user": {
      "displayName": "Pianalytix Vrec",
      "photoUrl": "",
      "userId": "08286299111597749388"
     },
     "user_tz": -330
    },
    "id": "xXDnLIWFm1wq",
    "outputId": "b332a4af-7a69-4012-d9f3-a9ebbb952056"
   },
   "outputs": [
    {
     "data": {
      "text/html": [
       "<div>\n",
       "<style scoped>\n",
       "    .dataframe tbody tr th:only-of-type {\n",
       "        vertical-align: middle;\n",
       "    }\n",
       "\n",
       "    .dataframe tbody tr th {\n",
       "        vertical-align: top;\n",
       "    }\n",
       "\n",
       "    .dataframe thead th {\n",
       "        text-align: right;\n",
       "    }\n",
       "</style>\n",
       "<table border=\"1\" class=\"dataframe\">\n",
       "  <thead>\n",
       "    <tr style=\"text-align: right;\">\n",
       "      <th></th>\n",
       "      <th>Dataset</th>\n",
       "      <th>Gender</th>\n",
       "      <th>Age</th>\n",
       "    </tr>\n",
       "  </thead>\n",
       "  <tbody>\n",
       "    <tr>\n",
       "      <th>2</th>\n",
       "      <td>2</td>\n",
       "      <td>Female</td>\n",
       "      <td>42.740000</td>\n",
       "    </tr>\n",
       "    <tr>\n",
       "      <th>3</th>\n",
       "      <td>2</td>\n",
       "      <td>Male</td>\n",
       "      <td>40.598291</td>\n",
       "    </tr>\n",
       "    <tr>\n",
       "      <th>0</th>\n",
       "      <td>1</td>\n",
       "      <td>Female</td>\n",
       "      <td>43.347826</td>\n",
       "    </tr>\n",
       "    <tr>\n",
       "      <th>1</th>\n",
       "      <td>1</td>\n",
       "      <td>Male</td>\n",
       "      <td>46.950617</td>\n",
       "    </tr>\n",
       "  </tbody>\n",
       "</table>\n",
       "</div>"
      ],
      "text/plain": [
       "   Dataset  Gender        Age\n",
       "2        2  Female  42.740000\n",
       "3        2    Male  40.598291\n",
       "0        1  Female  43.347826\n",
       "1        1    Male  46.950617"
      ]
     },
     "execution_count": 12,
     "metadata": {},
     "output_type": "execute_result"
    }
   ],
   "source": [
    "liver_df[['Gender', 'Dataset','Age']].groupby(['Dataset','Gender'], as_index=False).mean().sort_values(by='Dataset', ascending=False)"
   ]
  },
  {
   "cell_type": "code",
   "execution_count": 13,
   "metadata": {
    "colab": {
     "base_uri": "https://localhost:8080/",
     "height": 460
    },
    "executionInfo": {
     "elapsed": 2990,
     "status": "ok",
     "timestamp": 1602158022300,
     "user": {
      "displayName": "Pianalytix Vrec",
      "photoUrl": "",
      "userId": "08286299111597749388"
     },
     "user_tz": -330
    },
    "id": "FIxwIMcqm1ws",
    "outputId": "ebdd11db-67b6-4e8f-9bb0-ae55ee73a19e"
   },
   "outputs": [
    {
     "data": {
      "text/plain": [
       "Text(0.5, 0.98, 'Disease by Gender and Age')"
      ]
     },
     "execution_count": 13,
     "metadata": {},
     "output_type": "execute_result"
    },
    {
     "data": {
      "image/png": "[encoded data removed]",
      "text/plain": [
       "<Figure size 432x432 with 4 Axes>"
      ]
     },
     "metadata": {
      "needs_background": "light"
     },
     "output_type": "display_data"
    }
   ],
   "source": [
    "# Plotting Age vs Gender\n",
    "g = sns.FacetGrid(liver_df, col=\"Dataset\", row=\"Gender\", margin_titles=True)\n",
    "g.map(plt.hist, \"Age\", color=\"red\")\n",
    "plt.subplots_adjust(top=0.9)\n",
    "g.fig.suptitle('Disease by Gender and Age')"
   ]
  },
  {
   "cell_type": "code",
   "execution_count": 14,
   "metadata": {
    "colab": {
     "base_uri": "https://localhost:8080/",
     "height": 423
    },
    "executionInfo": {
     "elapsed": 668,
     "status": "ok",
     "timestamp": 1602158022309,
     "user": {
      "displayName": "Pianalytix Vrec",
      "photoUrl": "",
      "userId": "08286299111597749388"
     },
     "user_tz": -330
    },
    "id": "6RKRSxqqm1wv",
    "outputId": "e5deeac6-dace-49a9-991e-e0d637385dc8"
   },
   "outputs": [
    {
     "data": {
      "image/png": "[encoded data removed]",
      "text/plain": [
       "<Figure size 432x432 with 4 Axes>"
      ]
     },
     "metadata": {
      "needs_background": "light"
     },
     "output_type": "display_data"
    }
   ],
   "source": [
    "# Plotting Gender(Male/Female) along with Total_Bilirubin and Direct_Bilirubin\n",
    "g = sns.FacetGrid(liver_df, col=\"Gender\", row=\"Dataset\", margin_titles=True)\n",
    "g.map(plt.scatter,\"Direct_Bilirubin\", \"Total_Bilirubin\", edgecolor=\"w\")\n",
    "plt.subplots_adjust(top=0.9)"
   ]
  },
  {
   "cell_type": "code",
   "execution_count": 15,
   "metadata": {
    "colab": {
     "base_uri": "https://localhost:8080/",
     "height": 458
    },
    "executionInfo": {
     "elapsed": 630,
     "status": "ok",
     "timestamp": 1602158022310,
     "user": {
      "displayName": "Pianalytix Vrec",
      "photoUrl": "",
      "userId": "08286299111597749388"
     },
     "user_tz": -330
    },
    "id": "nR88E9Wam1wx",
    "outputId": "6764831d-ce20-47fc-e393-00b1d77f5ee0"
   },
   "outputs": [
    {
     "data": {
      "text/plain": [
       "<seaborn.axisgrid.JointGrid at 0x1c644f3a3d0>"
      ]
     },
     "execution_count": 15,
     "metadata": {},
     "output_type": "execute_result"
    },
    {
     "data": {
      "image/png": "[encoded data removed]",
      "text/plain": [
       "<Figure size 432x432 with 3 Axes>"
      ]
     },
     "metadata": {
      "needs_background": "light"
     },
     "output_type": "display_data"
    }
   ],
   "source": [
    "# Plotting Total_Bilirubin vs Direct_Bilirubin\n",
    "sns.jointplot(\"Total_Bilirubin\", \"Direct_Bilirubin\", data=liver_df, kind=\"reg\")"
   ]
  },
  {
   "cell_type": "code",
   "execution_count": 16,
   "metadata": {
    "colab": {
     "base_uri": "https://localhost:8080/",
     "height": 423
    },
    "executionInfo": {
     "elapsed": 603,
     "status": "ok",
     "timestamp": 1602158022312,
     "user": {
      "displayName": "Pianalytix Vrec",
      "photoUrl": "",
      "userId": "08286299111597749388"
     },
     "user_tz": -330
    },
    "id": "Nku7HUTim1w0",
    "outputId": "676de581-0bab-4621-ae5b-cd29d0fa0f2d"
   },
   "outputs": [
    {
     "data": {
      "image/png": "[encoded data removed]",
      "text/plain": [
       "<Figure size 432x432 with 4 Axes>"
      ]
     },
     "metadata": {
      "needs_background": "light"
     },
     "output_type": "display_data"
    }
   ],
   "source": [
    "# Plotting Gender(Male/Female) along with Aspartate Aminotransferase, Alamine Aminotransferase\n",
    "g = sns.FacetGrid(liver_df, col=\"Gender\", row=\"Dataset\", margin_titles=True)\n",
    "g.map(plt.scatter,\"Aspartate_Aminotransferase\", \"Alamine_Aminotransferase\",  edgecolor=\"w\")\n",
    "plt.subplots_adjust(top=0.9)"
   ]
  },
  {
   "cell_type": "code",
   "execution_count": 17,
   "metadata": {
    "colab": {
     "base_uri": "https://localhost:8080/",
     "height": 458
    },
    "executionInfo": {
     "elapsed": 583,
     "status": "ok",
     "timestamp": 1602158022313,
     "user": {
      "displayName": "Pianalytix Vrec",
      "photoUrl": "",
      "userId": "08286299111597749388"
     },
     "user_tz": -330
    },
    "id": "VtV7qKL3m1w6",
    "outputId": "6d7ac220-a75e-4223-c1cc-8b2a8e0a9fea"
   },
   "outputs": [
    {
     "data": {
      "text/plain": [
       "<seaborn.axisgrid.JointGrid at 0x1c646634820>"
      ]
     },
     "execution_count": 17,
     "metadata": {},
     "output_type": "execute_result"
    },
    {
     "data": {
      "image/png": "[encoded data removed]",
      "text/plain": [
       "<Figure size 432x432 with 3 Axes>"
      ]
     },
     "metadata": {
      "needs_background": "light"
     },
     "output_type": "display_data"
    }
   ],
   "source": [
    "# Plotting Aspartate_Aminotransferase vs Alamine_Aminotransferase\n",
    "sns.jointplot(\"Aspartate_Aminotransferase\", \"Alamine_Aminotransferase\", data=liver_df, kind=\"reg\")"
   ]
  },
  {
   "cell_type": "code",
   "execution_count": 18,
   "metadata": {
    "colab": {
     "base_uri": "https://localhost:8080/",
     "height": 423
    },
    "executionInfo": {
     "elapsed": 552,
     "status": "ok",
     "timestamp": 1602158022314,
     "user": {
      "displayName": "Pianalytix Vrec",
      "photoUrl": "",
      "userId": "08286299111597749388"
     },
     "user_tz": -330
    },
    "id": "_CXxZR9vm1w8",
    "outputId": "e0b9cf8d-b35f-4284-cadd-1c5a60ebdbbc"
   },
   "outputs": [
    {
     "data": {
      "image/png": "[encoded data removed]",
      "text/plain": [
       "<Figure size 432x432 with 4 Axes>"
      ]
     },
     "metadata": {
      "needs_background": "light"
     },
     "output_type": "display_data"
    }
   ],
   "source": [
    "# Plotting Gender(Male/Female) along with Alkaline_Phosphotase and Alamine_Aminotransferase\n",
    "g = sns.FacetGrid(liver_df, col=\"Gender\", row=\"Dataset\", margin_titles=True)\n",
    "g.map(plt.scatter,\"Alkaline_Phosphotase\", \"Alamine_Aminotransferase\",  edgecolor=\"w\")\n",
    "plt.subplots_adjust(top=0.9)"
   ]
  },
  {
   "cell_type": "code",
   "execution_count": 19,
   "metadata": {
    "colab": {
     "base_uri": "https://localhost:8080/",
     "height": 458
    },
    "executionInfo": {
     "elapsed": 533,
     "status": "ok",
     "timestamp": 1602158022316,
     "user": {
      "displayName": "Pianalytix Vrec",
      "photoUrl": "",
      "userId": "08286299111597749388"
     },
     "user_tz": -330
    },
    "id": "YwMCkP4_m1w-",
    "outputId": "58743a2c-5a23-4c9f-cc11-1d65e8876ffe"
   },
   "outputs": [
    {
     "data": {
      "text/plain": [
       "<seaborn.axisgrid.JointGrid at 0x1c646e05c10>"
      ]
     },
     "execution_count": 19,
     "metadata": {},
     "output_type": "execute_result"
    },
    {
     "data": {
      "image/png": "[encoded data removed]",
      "text/plain": [
       "<Figure size 432x432 with 3 Axes>"
      ]
     },
     "metadata": {
      "needs_background": "light"
     },
     "output_type": "display_data"
    }
   ],
   "source": [
    "# Plotting Alkaline_Phosphotase vs Alamine_Aminotransferase\n",
    "sns.jointplot(\"Alkaline_Phosphotase\", \"Alamine_Aminotransferase\", data=liver_df, kind=\"reg\")"
   ]
  },
  {
   "cell_type": "code",
   "execution_count": 20,
   "metadata": {
    "colab": {
     "base_uri": "https://localhost:8080/",
     "height": 423
    },
    "executionInfo": {
     "elapsed": 513,
     "status": "ok",
     "timestamp": 1602158022317,
     "user": {
      "displayName": "Pianalytix Vrec",
      "photoUrl": "",
      "userId": "08286299111597749388"
     },
     "user_tz": -330
    },
    "id": "ZqygHcuim1xA",
    "outputId": "1b63b42c-ade7-48db-a3e0-bcfa7af90548"
   },
   "outputs": [
    {
     "data": {
      "image/png": "[encoded data removed]",
      "text/plain": [
       "<Figure size 432x432 with 4 Axes>"
      ]
     },
     "metadata": {
      "needs_background": "light"
     },
     "output_type": "display_data"
    }
   ],
   "source": [
    "# Plotting Gender(Male/Female) along with Total_Protiens and Albumin\n",
    "g = sns.FacetGrid(liver_df, col=\"Gender\", row=\"Dataset\", margin_titles=True)\n",
    "g.map(plt.scatter,\"Total_Protiens\", \"Albumin\",  edgecolor=\"w\")\n",
    "plt.subplots_adjust(top=0.9)"
   ]
  },
  {
   "cell_type": "code",
   "execution_count": 21,
   "metadata": {
    "colab": {
     "base_uri": "https://localhost:8080/",
     "height": 458
    },
    "executionInfo": {
     "elapsed": 487,
     "status": "ok",
     "timestamp": 1602158022320,
     "user": {
      "displayName": "Pianalytix Vrec",
      "photoUrl": "",
      "userId": "08286299111597749388"
     },
     "user_tz": -330
    },
    "id": "ZtWi_pJom1xC",
    "outputId": "037808dd-80b9-4c96-c34a-f6e26c70261e"
   },
   "outputs": [
    {
     "data": {
      "text/plain": [
       "<seaborn.axisgrid.JointGrid at 0x1c6472198e0>"
      ]
     },
     "execution_count": 21,
     "metadata": {},
     "output_type": "execute_result"
    },
    {
     "data": {
      "image/png": "[encoded data removed]",
      "text/plain": [
       "<Figure size 432x432 with 3 Axes>"
      ]
     },
     "metadata": {
      "needs_background": "light"
     },
     "output_type": "display_data"
    }
   ],
   "source": [
    "# Plotting Total_Protiens vs Albumin\n",
    "sns.jointplot(\"Total_Protiens\", \"Albumin\", data=liver_df, kind=\"reg\")"
   ]
  },
  {
   "cell_type": "code",
   "execution_count": 22,
   "metadata": {
    "colab": {
     "base_uri": "https://localhost:8080/",
     "height": 423
    },
    "executionInfo": {
     "elapsed": 468,
     "status": "ok",
     "timestamp": 1602158022322,
     "user": {
      "displayName": "Pianalytix Vrec",
      "photoUrl": "",
      "userId": "08286299111597749388"
     },
     "user_tz": -330
    },
    "id": "QM-na2sqm1xF",
    "outputId": "41972a6e-c1d2-40c5-8a2e-6742228b8505"
   },
   "outputs": [
    {
     "data": {
      "image/png": "[encoded data removed]",
      "text/plain": [
       "<Figure size 432x432 with 4 Axes>"
      ]
     },
     "metadata": {
      "needs_background": "light"
     },
     "output_type": "display_data"
    }
   ],
   "source": [
    "# Plotting Gender(Male/Female) along with Albumin and Albumin_and_Globulin_Ratio\n",
    "g = sns.FacetGrid(liver_df, col=\"Gender\", row=\"Dataset\", margin_titles=True)\n",
    "g.map(plt.scatter,\"Albumin\", \"Albumin_and_Globulin_Ratio\",  edgecolor=\"w\")\n",
    "plt.subplots_adjust(top=0.9)"
   ]
  },
  {
   "cell_type": "code",
   "execution_count": 23,
   "metadata": {
    "colab": {
     "base_uri": "https://localhost:8080/",
     "height": 458
    },
    "executionInfo": {
     "elapsed": 439,
     "status": "ok",
     "timestamp": 1602158022324,
     "user": {
      "displayName": "Pianalytix Vrec",
      "photoUrl": "",
      "userId": "08286299111597749388"
     },
     "user_tz": -330
    },
    "id": "cy9PyOVjm1xJ",
    "outputId": "3ff27dd0-902c-4053-dcf7-2c0dde2d7167"
   },
   "outputs": [
    {
     "data": {
      "text/plain": [
       "<seaborn.axisgrid.JointGrid at 0x1c64525f700>"
      ]
     },
     "execution_count": 23,
     "metadata": {},
     "output_type": "execute_result"
    },
    {
     "data": {
      "image/png": "[encoded data removed]",
      "text/plain": [
       "<Figure size 432x432 with 3 Axes>"
      ]
     },
     "metadata": {
      "needs_background": "light"
     },
     "output_type": "display_data"
    }
   ],
   "source": [
    "# Plotting Albumin vs Albumin_and_Globulin_Ratio\n",
    "sns.jointplot(\"Albumin_and_Globulin_Ratio\", \"Albumin\", data=liver_df, kind=\"reg\")"
   ]
  },
  {
   "cell_type": "code",
   "execution_count": 24,
   "metadata": {
    "colab": {
     "base_uri": "https://localhost:8080/",
     "height": 423
    },
    "executionInfo": {
     "elapsed": 416,
     "status": "ok",
     "timestamp": 1602158022325,
     "user": {
      "displayName": "Pianalytix Vrec",
      "photoUrl": "",
      "userId": "08286299111597749388"
     },
     "user_tz": -330
    },
    "id": "N0jKt4cLm1xL",
    "outputId": "730efb64-5517-45a0-fd6a-6454f207745a"
   },
   "outputs": [
    {
     "data": {
      "image/png": "[encoded data removed]",
      "text/plain": [
       "<Figure size 432x432 with 4 Axes>"
      ]
     },
     "metadata": {
      "needs_background": "light"
     },
     "output_type": "display_data"
    }
   ],
   "source": [
    "# Plotting Gender(Male/Female) along with Albumin and Globulin Ratio and Total Protiens\n",
    "g = sns.FacetGrid(liver_df, col=\"Gender\", row=\"Dataset\", margin_titles=True)\n",
    "g.map(plt.scatter,\"Albumin_and_Globulin_Ratio\", \"Total_Protiens\",  edgecolor=\"w\")\n",
    "plt.subplots_adjust(top=0.9)"
   ]
  },
  {
   "cell_type": "markdown",
   "metadata": {
    "id": "n9i6ylMmm1xN"
   },
   "source": [
    "### Feature Engineering"
   ]
  },
  {
   "cell_type": "code",
   "execution_count": 25,
   "metadata": {
    "colab": {
     "base_uri": "https://localhost:8080/",
     "height": 156
    },
    "executionInfo": {
     "elapsed": 404,
     "status": "ok",
     "timestamp": 1602158022328,
     "user": {
      "displayName": "Pianalytix Vrec",
      "photoUrl": "",
      "userId": "08286299111597749388"
     },
     "user_tz": -330
    },
    "id": "kZ6lVsmmm1xO",
    "outputId": "0617807d-52ef-4edf-a79c-261761cc7a7a"
   },
   "outputs": [
    {
     "data": {
      "text/html": [
       "<div>\n",
       "<style scoped>\n",
       "    .dataframe tbody tr th:only-of-type {\n",
       "        vertical-align: middle;\n",
       "    }\n",
       "\n",
       "    .dataframe tbody tr th {\n",
       "        vertical-align: top;\n",
       "    }\n",
       "\n",
       "    .dataframe thead th {\n",
       "        text-align: right;\n",
       "    }\n",
       "</style>\n",
       "<table border=\"1\" class=\"dataframe\">\n",
       "  <thead>\n",
       "    <tr style=\"text-align: right;\">\n",
       "      <th></th>\n",
       "      <th>Age</th>\n",
       "      <th>Gender</th>\n",
       "      <th>Total_Bilirubin</th>\n",
       "      <th>Direct_Bilirubin</th>\n",
       "      <th>Alkaline_Phosphotase</th>\n",
       "      <th>Alamine_Aminotransferase</th>\n",
       "      <th>Aspartate_Aminotransferase</th>\n",
       "      <th>Total_Protiens</th>\n",
       "      <th>Albumin</th>\n",
       "      <th>Albumin_and_Globulin_Ratio</th>\n",
       "      <th>Dataset</th>\n",
       "    </tr>\n",
       "  </thead>\n",
       "  <tbody>\n",
       "    <tr>\n",
       "      <th>0</th>\n",
       "      <td>65</td>\n",
       "      <td>Female</td>\n",
       "      <td>0.7</td>\n",
       "      <td>0.1</td>\n",
       "      <td>187</td>\n",
       "      <td>16</td>\n",
       "      <td>18</td>\n",
       "      <td>6.8</td>\n",
       "      <td>3.3</td>\n",
       "      <td>0.90</td>\n",
       "      <td>1</td>\n",
       "    </tr>\n",
       "    <tr>\n",
       "      <th>1</th>\n",
       "      <td>62</td>\n",
       "      <td>Male</td>\n",
       "      <td>10.9</td>\n",
       "      <td>5.5</td>\n",
       "      <td>699</td>\n",
       "      <td>64</td>\n",
       "      <td>100</td>\n",
       "      <td>7.5</td>\n",
       "      <td>3.2</td>\n",
       "      <td>0.74</td>\n",
       "      <td>1</td>\n",
       "    </tr>\n",
       "    <tr>\n",
       "      <th>2</th>\n",
       "      <td>62</td>\n",
       "      <td>Male</td>\n",
       "      <td>7.3</td>\n",
       "      <td>4.1</td>\n",
       "      <td>490</td>\n",
       "      <td>60</td>\n",
       "      <td>68</td>\n",
       "      <td>7.0</td>\n",
       "      <td>3.3</td>\n",
       "      <td>0.89</td>\n",
       "      <td>1</td>\n",
       "    </tr>\n",
       "  </tbody>\n",
       "</table>\n",
       "</div>"
      ],
      "text/plain": [
       "   Age  Gender  Total_Bilirubin  Direct_Bilirubin  Alkaline_Phosphotase  \\\n",
       "0   65  Female              0.7               0.1                   187   \n",
       "1   62    Male             10.9               5.5                   699   \n",
       "2   62    Male              7.3               4.1                   490   \n",
       "\n",
       "   Alamine_Aminotransferase  Aspartate_Aminotransferase  Total_Protiens  \\\n",
       "0                        16                          18             6.8   \n",
       "1                        64                         100             7.5   \n",
       "2                        60                          68             7.0   \n",
       "\n",
       "   Albumin  Albumin_and_Globulin_Ratio  Dataset  \n",
       "0      3.3                        0.90        1  \n",
       "1      3.2                        0.74        1  \n",
       "2      3.3                        0.89        1  "
      ]
     },
     "execution_count": 25,
     "metadata": {},
     "output_type": "execute_result"
    }
   ],
   "source": [
    "liver_df.head(3)"
   ]
  },
  {
   "cell_type": "code",
   "execution_count": 26,
   "metadata": {
    "colab": {
     "base_uri": "https://localhost:8080/",
     "height": 195
    },
    "executionInfo": {
     "elapsed": 376,
     "status": "ok",
     "timestamp": 1602158022329,
     "user": {
      "displayName": "Pianalytix Vrec",
      "photoUrl": "",
      "userId": "08286299111597749388"
     },
     "user_tz": -330
    },
    "id": "k7WoHGSam1xQ",
    "outputId": "6bb3ea5e-c41d-4509-efc5-5b7617e2fdcf"
   },
   "outputs": [
    {
     "data": {
      "text/html": [
       "<div>\n",
       "<style scoped>\n",
       "    .dataframe tbody tr th:only-of-type {\n",
       "        vertical-align: middle;\n",
       "    }\n",
       "\n",
       "    .dataframe tbody tr th {\n",
       "        vertical-align: top;\n",
       "    }\n",
       "\n",
       "    .dataframe thead th {\n",
       "        text-align: right;\n",
       "    }\n",
       "</style>\n",
       "<table border=\"1\" class=\"dataframe\">\n",
       "  <thead>\n",
       "    <tr style=\"text-align: right;\">\n",
       "      <th></th>\n",
       "      <th>Gender_Female</th>\n",
       "      <th>Gender_Male</th>\n",
       "    </tr>\n",
       "  </thead>\n",
       "  <tbody>\n",
       "    <tr>\n",
       "      <th>0</th>\n",
       "      <td>1</td>\n",
       "      <td>0</td>\n",
       "    </tr>\n",
       "    <tr>\n",
       "      <th>1</th>\n",
       "      <td>0</td>\n",
       "      <td>1</td>\n",
       "    </tr>\n",
       "    <tr>\n",
       "      <th>2</th>\n",
       "      <td>0</td>\n",
       "      <td>1</td>\n",
       "    </tr>\n",
       "    <tr>\n",
       "      <th>3</th>\n",
       "      <td>0</td>\n",
       "      <td>1</td>\n",
       "    </tr>\n",
       "    <tr>\n",
       "      <th>4</th>\n",
       "      <td>0</td>\n",
       "      <td>1</td>\n",
       "    </tr>\n",
       "  </tbody>\n",
       "</table>\n",
       "</div>"
      ],
      "text/plain": [
       "   Gender_Female  Gender_Male\n",
       "0              1            0\n",
       "1              0            1\n",
       "2              0            1\n",
       "3              0            1\n",
       "4              0            1"
      ]
     },
     "execution_count": 26,
     "metadata": {},
     "output_type": "execute_result"
    }
   ],
   "source": [
    "pd.get_dummies(liver_df['Gender'], prefix = 'Gender').head()"
   ]
  },
  {
   "cell_type": "code",
   "execution_count": 27,
   "metadata": {
    "executionInfo": {
     "elapsed": 352,
     "status": "ok",
     "timestamp": 1602158022331,
     "user": {
      "displayName": "Pianalytix Vrec",
      "photoUrl": "",
      "userId": "08286299111597749388"
     },
     "user_tz": -330
    },
    "id": "gCL4Zg96m1xT"
   },
   "outputs": [],
   "source": [
    "# Concatination\n",
    "liver_df = pd.concat([liver_df,pd.get_dummies(liver_df['Gender'], prefix = 'Gender')], axis=1)"
   ]
  },
  {
   "cell_type": "code",
   "execution_count": 28,
   "metadata": {
    "colab": {
     "base_uri": "https://localhost:8080/",
     "height": 215
    },
    "executionInfo": {
     "elapsed": 332,
     "status": "ok",
     "timestamp": 1602158022333,
     "user": {
      "displayName": "Pianalytix Vrec",
      "photoUrl": "",
      "userId": "08286299111597749388"
     },
     "user_tz": -330
    },
    "id": "PbMlbUSgm1xV",
    "outputId": "4dcb843d-0515-4048-cfcf-bbcbc25db55a"
   },
   "outputs": [
    {
     "data": {
      "text/html": [
       "<div>\n",
       "<style scoped>\n",
       "    .dataframe tbody tr th:only-of-type {\n",
       "        vertical-align: middle;\n",
       "    }\n",
       "\n",
       "    .dataframe tbody tr th {\n",
       "        vertical-align: top;\n",
       "    }\n",
       "\n",
       "    .dataframe thead th {\n",
       "        text-align: right;\n",
       "    }\n",
       "</style>\n",
       "<table border=\"1\" class=\"dataframe\">\n",
       "  <thead>\n",
       "    <tr style=\"text-align: right;\">\n",
       "      <th></th>\n",
       "      <th>Age</th>\n",
       "      <th>Gender</th>\n",
       "      <th>Total_Bilirubin</th>\n",
       "      <th>Direct_Bilirubin</th>\n",
       "      <th>Alkaline_Phosphotase</th>\n",
       "      <th>Alamine_Aminotransferase</th>\n",
       "      <th>Aspartate_Aminotransferase</th>\n",
       "      <th>Total_Protiens</th>\n",
       "      <th>Albumin</th>\n",
       "      <th>Albumin_and_Globulin_Ratio</th>\n",
       "      <th>Dataset</th>\n",
       "      <th>Gender_Female</th>\n",
       "      <th>Gender_Male</th>\n",
       "    </tr>\n",
       "  </thead>\n",
       "  <tbody>\n",
       "    <tr>\n",
       "      <th>0</th>\n",
       "      <td>65</td>\n",
       "      <td>Female</td>\n",
       "      <td>0.7</td>\n",
       "      <td>0.1</td>\n",
       "      <td>187</td>\n",
       "      <td>16</td>\n",
       "      <td>18</td>\n",
       "      <td>6.8</td>\n",
       "      <td>3.3</td>\n",
       "      <td>0.90</td>\n",
       "      <td>1</td>\n",
       "      <td>1</td>\n",
       "      <td>0</td>\n",
       "    </tr>\n",
       "    <tr>\n",
       "      <th>1</th>\n",
       "      <td>62</td>\n",
       "      <td>Male</td>\n",
       "      <td>10.9</td>\n",
       "      <td>5.5</td>\n",
       "      <td>699</td>\n",
       "      <td>64</td>\n",
       "      <td>100</td>\n",
       "      <td>7.5</td>\n",
       "      <td>3.2</td>\n",
       "      <td>0.74</td>\n",
       "      <td>1</td>\n",
       "      <td>0</td>\n",
       "      <td>1</td>\n",
       "    </tr>\n",
       "    <tr>\n",
       "      <th>2</th>\n",
       "      <td>62</td>\n",
       "      <td>Male</td>\n",
       "      <td>7.3</td>\n",
       "      <td>4.1</td>\n",
       "      <td>490</td>\n",
       "      <td>60</td>\n",
       "      <td>68</td>\n",
       "      <td>7.0</td>\n",
       "      <td>3.3</td>\n",
       "      <td>0.89</td>\n",
       "      <td>1</td>\n",
       "      <td>0</td>\n",
       "      <td>1</td>\n",
       "    </tr>\n",
       "    <tr>\n",
       "      <th>3</th>\n",
       "      <td>58</td>\n",
       "      <td>Male</td>\n",
       "      <td>1.0</td>\n",
       "      <td>0.4</td>\n",
       "      <td>182</td>\n",
       "      <td>14</td>\n",
       "      <td>20</td>\n",
       "      <td>6.8</td>\n",
       "      <td>3.4</td>\n",
       "      <td>1.00</td>\n",
       "      <td>1</td>\n",
       "      <td>0</td>\n",
       "      <td>1</td>\n",
       "    </tr>\n",
       "    <tr>\n",
       "      <th>4</th>\n",
       "      <td>72</td>\n",
       "      <td>Male</td>\n",
       "      <td>3.9</td>\n",
       "      <td>2.0</td>\n",
       "      <td>195</td>\n",
       "      <td>27</td>\n",
       "      <td>59</td>\n",
       "      <td>7.3</td>\n",
       "      <td>2.4</td>\n",
       "      <td>0.40</td>\n",
       "      <td>1</td>\n",
       "      <td>0</td>\n",
       "      <td>1</td>\n",
       "    </tr>\n",
       "  </tbody>\n",
       "</table>\n",
       "</div>"
      ],
      "text/plain": [
       "   Age  Gender  Total_Bilirubin  Direct_Bilirubin  Alkaline_Phosphotase  \\\n",
       "0   65  Female              0.7               0.1                   187   \n",
       "1   62    Male             10.9               5.5                   699   \n",
       "2   62    Male              7.3               4.1                   490   \n",
       "3   58    Male              1.0               0.4                   182   \n",
       "4   72    Male              3.9               2.0                   195   \n",
       "\n",
       "   Alamine_Aminotransferase  Aspartate_Aminotransferase  Total_Protiens  \\\n",
       "0                        16                          18             6.8   \n",
       "1                        64                         100             7.5   \n",
       "2                        60                          68             7.0   \n",
       "3                        14                          20             6.8   \n",
       "4                        27                          59             7.3   \n",
       "\n",
       "   Albumin  Albumin_and_Globulin_Ratio  Dataset  Gender_Female  Gender_Male  \n",
       "0      3.3                        0.90        1              1            0  \n",
       "1      3.2                        0.74        1              0            1  \n",
       "2      3.3                        0.89        1              0            1  \n",
       "3      3.4                        1.00        1              0            1  \n",
       "4      2.4                        0.40        1              0            1  "
      ]
     },
     "execution_count": 28,
     "metadata": {},
     "output_type": "execute_result"
    }
   ],
   "source": [
    "liver_df.head()"
   ]
  },
  {
   "cell_type": "code",
   "execution_count": 29,
   "metadata": {
    "colab": {
     "base_uri": "https://localhost:8080/",
     "height": 304
    },
    "executionInfo": {
     "elapsed": 306,
     "status": "ok",
     "timestamp": 1602158022334,
     "user": {
      "displayName": "Pianalytix Vrec",
      "photoUrl": "",
      "userId": "08286299111597749388"
     },
     "user_tz": -330
    },
    "id": "2aJsAMTlm1xa",
    "outputId": "a12fc050-81a4-49ab-8f02-4c4e3843fe2f"
   },
   "outputs": [
    {
     "data": {
      "text/html": [
       "<div>\n",
       "<style scoped>\n",
       "    .dataframe tbody tr th:only-of-type {\n",
       "        vertical-align: middle;\n",
       "    }\n",
       "\n",
       "    .dataframe tbody tr th {\n",
       "        vertical-align: top;\n",
       "    }\n",
       "\n",
       "    .dataframe thead th {\n",
       "        text-align: right;\n",
       "    }\n",
       "</style>\n",
       "<table border=\"1\" class=\"dataframe\">\n",
       "  <thead>\n",
       "    <tr style=\"text-align: right;\">\n",
       "      <th></th>\n",
       "      <th>Age</th>\n",
       "      <th>Total_Bilirubin</th>\n",
       "      <th>Direct_Bilirubin</th>\n",
       "      <th>Alkaline_Phosphotase</th>\n",
       "      <th>Alamine_Aminotransferase</th>\n",
       "      <th>Aspartate_Aminotransferase</th>\n",
       "      <th>Total_Protiens</th>\n",
       "      <th>Albumin</th>\n",
       "      <th>Albumin_and_Globulin_Ratio</th>\n",
       "      <th>Dataset</th>\n",
       "      <th>Gender_Female</th>\n",
       "      <th>Gender_Male</th>\n",
       "    </tr>\n",
       "  </thead>\n",
       "  <tbody>\n",
       "    <tr>\n",
       "      <th>count</th>\n",
       "      <td>583.000000</td>\n",
       "      <td>583.000000</td>\n",
       "      <td>583.000000</td>\n",
       "      <td>583.000000</td>\n",
       "      <td>583.000000</td>\n",
       "      <td>583.000000</td>\n",
       "      <td>583.000000</td>\n",
       "      <td>583.000000</td>\n",
       "      <td>579.000000</td>\n",
       "      <td>583.000000</td>\n",
       "      <td>583.000000</td>\n",
       "      <td>583.000000</td>\n",
       "    </tr>\n",
       "    <tr>\n",
       "      <th>mean</th>\n",
       "      <td>44.746141</td>\n",
       "      <td>3.298799</td>\n",
       "      <td>1.486106</td>\n",
       "      <td>290.576329</td>\n",
       "      <td>80.713551</td>\n",
       "      <td>109.910806</td>\n",
       "      <td>6.483190</td>\n",
       "      <td>3.141852</td>\n",
       "      <td>0.947064</td>\n",
       "      <td>1.286449</td>\n",
       "      <td>0.243568</td>\n",
       "      <td>0.756432</td>\n",
       "    </tr>\n",
       "    <tr>\n",
       "      <th>std</th>\n",
       "      <td>16.189833</td>\n",
       "      <td>6.209522</td>\n",
       "      <td>2.808498</td>\n",
       "      <td>242.937989</td>\n",
       "      <td>182.620356</td>\n",
       "      <td>288.918529</td>\n",
       "      <td>1.085451</td>\n",
       "      <td>0.795519</td>\n",
       "      <td>0.319592</td>\n",
       "      <td>0.452490</td>\n",
       "      <td>0.429603</td>\n",
       "      <td>0.429603</td>\n",
       "    </tr>\n",
       "    <tr>\n",
       "      <th>min</th>\n",
       "      <td>4.000000</td>\n",
       "      <td>0.400000</td>\n",
       "      <td>0.100000</td>\n",
       "      <td>63.000000</td>\n",
       "      <td>10.000000</td>\n",
       "      <td>10.000000</td>\n",
       "      <td>2.700000</td>\n",
       "      <td>0.900000</td>\n",
       "      <td>0.300000</td>\n",
       "      <td>1.000000</td>\n",
       "      <td>0.000000</td>\n",
       "      <td>0.000000</td>\n",
       "    </tr>\n",
       "    <tr>\n",
       "      <th>25%</th>\n",
       "      <td>33.000000</td>\n",
       "      <td>0.800000</td>\n",
       "      <td>0.200000</td>\n",
       "      <td>175.500000</td>\n",
       "      <td>23.000000</td>\n",
       "      <td>25.000000</td>\n",
       "      <td>5.800000</td>\n",
       "      <td>2.600000</td>\n",
       "      <td>0.700000</td>\n",
       "      <td>1.000000</td>\n",
       "      <td>0.000000</td>\n",
       "      <td>1.000000</td>\n",
       "    </tr>\n",
       "    <tr>\n",
       "      <th>50%</th>\n",
       "      <td>45.000000</td>\n",
       "      <td>1.000000</td>\n",
       "      <td>0.300000</td>\n",
       "      <td>208.000000</td>\n",
       "      <td>35.000000</td>\n",
       "      <td>42.000000</td>\n",
       "      <td>6.600000</td>\n",
       "      <td>3.100000</td>\n",
       "      <td>0.930000</td>\n",
       "      <td>1.000000</td>\n",
       "      <td>0.000000</td>\n",
       "      <td>1.000000</td>\n",
       "    </tr>\n",
       "    <tr>\n",
       "      <th>75%</th>\n",
       "      <td>58.000000</td>\n",
       "      <td>2.600000</td>\n",
       "      <td>1.300000</td>\n",
       "      <td>298.000000</td>\n",
       "      <td>60.500000</td>\n",
       "      <td>87.000000</td>\n",
       "      <td>7.200000</td>\n",
       "      <td>3.800000</td>\n",
       "      <td>1.100000</td>\n",
       "      <td>2.000000</td>\n",
       "      <td>0.000000</td>\n",
       "      <td>1.000000</td>\n",
       "    </tr>\n",
       "    <tr>\n",
       "      <th>max</th>\n",
       "      <td>90.000000</td>\n",
       "      <td>75.000000</td>\n",
       "      <td>19.700000</td>\n",
       "      <td>2110.000000</td>\n",
       "      <td>2000.000000</td>\n",
       "      <td>4929.000000</td>\n",
       "      <td>9.600000</td>\n",
       "      <td>5.500000</td>\n",
       "      <td>2.800000</td>\n",
       "      <td>2.000000</td>\n",
       "      <td>1.000000</td>\n",
       "      <td>1.000000</td>\n",
       "    </tr>\n",
       "  </tbody>\n",
       "</table>\n",
       "</div>"
      ],
      "text/plain": [
       "              Age  Total_Bilirubin  Direct_Bilirubin  Alkaline_Phosphotase  \\\n",
       "count  583.000000       583.000000        583.000000            583.000000   \n",
       "mean    44.746141         3.298799          1.486106            290.576329   \n",
       "std     16.189833         6.209522          2.808498            242.937989   \n",
       "min      4.000000         0.400000          0.100000             63.000000   \n",
       "25%     33.000000         0.800000          0.200000            175.500000   \n",
       "50%     45.000000         1.000000          0.300000            208.000000   \n",
       "75%     58.000000         2.600000          1.300000            298.000000   \n",
       "max     90.000000        75.000000         19.700000           2110.000000   \n",
       "\n",
       "       Alamine_Aminotransferase  Aspartate_Aminotransferase  Total_Protiens  \\\n",
       "count                583.000000                  583.000000      583.000000   \n",
       "mean                  80.713551                  109.910806        6.483190   \n",
       "std                  182.620356                  288.918529        1.085451   \n",
       "min                   10.000000                   10.000000        2.700000   \n",
       "25%                   23.000000                   25.000000        5.800000   \n",
       "50%                   35.000000                   42.000000        6.600000   \n",
       "75%                   60.500000                   87.000000        7.200000   \n",
       "max                 2000.000000                 4929.000000        9.600000   \n",
       "\n",
       "          Albumin  Albumin_and_Globulin_Ratio     Dataset  Gender_Female  \\\n",
       "count  583.000000                  579.000000  583.000000     583.000000   \n",
       "mean     3.141852                    0.947064    1.286449       0.243568   \n",
       "std      0.795519                    0.319592    0.452490       0.429603   \n",
       "min      0.900000                    0.300000    1.000000       0.000000   \n",
       "25%      2.600000                    0.700000    1.000000       0.000000   \n",
       "50%      3.100000                    0.930000    1.000000       0.000000   \n",
       "75%      3.800000                    1.100000    2.000000       0.000000   \n",
       "max      5.500000                    2.800000    2.000000       1.000000   \n",
       "\n",
       "       Gender_Male  \n",
       "count   583.000000  \n",
       "mean      0.756432  \n",
       "std       0.429603  \n",
       "min       0.000000  \n",
       "25%       1.000000  \n",
       "50%       1.000000  \n",
       "75%       1.000000  \n",
       "max       1.000000  "
      ]
     },
     "execution_count": 29,
     "metadata": {},
     "output_type": "execute_result"
    }
   ],
   "source": [
    "liver_df.describe()"
   ]
  },
  {
   "cell_type": "code",
   "execution_count": 30,
   "metadata": {
    "colab": {
     "base_uri": "https://localhost:8080/",
     "height": 186
    },
    "executionInfo": {
     "elapsed": 280,
     "status": "ok",
     "timestamp": 1602158022335,
     "user": {
      "displayName": "Pianalytix Vrec",
      "photoUrl": "",
      "userId": "08286299111597749388"
     },
     "user_tz": -330
    },
    "id": "cdUl0oGQm1xl",
    "outputId": "39f6ada9-6755-47bd-fc7f-ada2700f2235"
   },
   "outputs": [
    {
     "data": {
      "text/html": [
       "<div>\n",
       "<style scoped>\n",
       "    .dataframe tbody tr th:only-of-type {\n",
       "        vertical-align: middle;\n",
       "    }\n",
       "\n",
       "    .dataframe tbody tr th {\n",
       "        vertical-align: top;\n",
       "    }\n",
       "\n",
       "    .dataframe thead th {\n",
       "        text-align: right;\n",
       "    }\n",
       "</style>\n",
       "<table border=\"1\" class=\"dataframe\">\n",
       "  <thead>\n",
       "    <tr style=\"text-align: right;\">\n",
       "      <th></th>\n",
       "      <th>Age</th>\n",
       "      <th>Gender</th>\n",
       "      <th>Total_Bilirubin</th>\n",
       "      <th>Direct_Bilirubin</th>\n",
       "      <th>Alkaline_Phosphotase</th>\n",
       "      <th>Alamine_Aminotransferase</th>\n",
       "      <th>Aspartate_Aminotransferase</th>\n",
       "      <th>Total_Protiens</th>\n",
       "      <th>Albumin</th>\n",
       "      <th>Albumin_and_Globulin_Ratio</th>\n",
       "      <th>Dataset</th>\n",
       "      <th>Gender_Female</th>\n",
       "      <th>Gender_Male</th>\n",
       "    </tr>\n",
       "  </thead>\n",
       "  <tbody>\n",
       "    <tr>\n",
       "      <th>209</th>\n",
       "      <td>45</td>\n",
       "      <td>Female</td>\n",
       "      <td>0.9</td>\n",
       "      <td>0.3</td>\n",
       "      <td>189</td>\n",
       "      <td>23</td>\n",
       "      <td>33</td>\n",
       "      <td>6.6</td>\n",
       "      <td>3.9</td>\n",
       "      <td>NaN</td>\n",
       "      <td>1</td>\n",
       "      <td>1</td>\n",
       "      <td>0</td>\n",
       "    </tr>\n",
       "    <tr>\n",
       "      <th>241</th>\n",
       "      <td>51</td>\n",
       "      <td>Male</td>\n",
       "      <td>0.8</td>\n",
       "      <td>0.2</td>\n",
       "      <td>230</td>\n",
       "      <td>24</td>\n",
       "      <td>46</td>\n",
       "      <td>6.5</td>\n",
       "      <td>3.1</td>\n",
       "      <td>NaN</td>\n",
       "      <td>1</td>\n",
       "      <td>0</td>\n",
       "      <td>1</td>\n",
       "    </tr>\n",
       "    <tr>\n",
       "      <th>253</th>\n",
       "      <td>35</td>\n",
       "      <td>Female</td>\n",
       "      <td>0.6</td>\n",
       "      <td>0.2</td>\n",
       "      <td>180</td>\n",
       "      <td>12</td>\n",
       "      <td>15</td>\n",
       "      <td>5.2</td>\n",
       "      <td>2.7</td>\n",
       "      <td>NaN</td>\n",
       "      <td>2</td>\n",
       "      <td>1</td>\n",
       "      <td>0</td>\n",
       "    </tr>\n",
       "    <tr>\n",
       "      <th>312</th>\n",
       "      <td>27</td>\n",
       "      <td>Male</td>\n",
       "      <td>1.3</td>\n",
       "      <td>0.6</td>\n",
       "      <td>106</td>\n",
       "      <td>25</td>\n",
       "      <td>54</td>\n",
       "      <td>8.5</td>\n",
       "      <td>4.8</td>\n",
       "      <td>NaN</td>\n",
       "      <td>2</td>\n",
       "      <td>0</td>\n",
       "      <td>1</td>\n",
       "    </tr>\n",
       "  </tbody>\n",
       "</table>\n",
       "</div>"
      ],
      "text/plain": [
       "     Age  Gender  Total_Bilirubin  Direct_Bilirubin  Alkaline_Phosphotase  \\\n",
       "209   45  Female              0.9               0.3                   189   \n",
       "241   51    Male              0.8               0.2                   230   \n",
       "253   35  Female              0.6               0.2                   180   \n",
       "312   27    Male              1.3               0.6                   106   \n",
       "\n",
       "     Alamine_Aminotransferase  Aspartate_Aminotransferase  Total_Protiens  \\\n",
       "209                        23                          33             6.6   \n",
       "241                        24                          46             6.5   \n",
       "253                        12                          15             5.2   \n",
       "312                        25                          54             8.5   \n",
       "\n",
       "     Albumin  Albumin_and_Globulin_Ratio  Dataset  Gender_Female  Gender_Male  \n",
       "209      3.9                         NaN        1              1            0  \n",
       "241      3.1                         NaN        1              0            1  \n",
       "253      2.7                         NaN        2              1            0  \n",
       "312      4.8                         NaN        2              0            1  "
      ]
     },
     "execution_count": 30,
     "metadata": {},
     "output_type": "execute_result"
    }
   ],
   "source": [
    "liver_df[liver_df['Albumin_and_Globulin_Ratio'].isnull()]"
   ]
  },
  {
   "cell_type": "code",
   "execution_count": 31,
   "metadata": {
    "executionInfo": {
     "elapsed": 259,
     "status": "ok",
     "timestamp": 1602158022336,
     "user": {
      "displayName": "Pianalytix Vrec",
      "photoUrl": "",
      "userId": "08286299111597749388"
     },
     "user_tz": -330
    },
    "id": "3LRezQ0Tm1xr"
   },
   "outputs": [],
   "source": [
    "liver_df[\"Albumin_and_Globulin_Ratio\"] = liver_df.Albumin_and_Globulin_Ratio.fillna(liver_df['Albumin_and_Globulin_Ratio'].mean())"
   ]
  },
  {
   "cell_type": "code",
   "execution_count": 32,
   "metadata": {
    "colab": {
     "base_uri": "https://localhost:8080/",
     "height": 156
    },
    "executionInfo": {
     "elapsed": 236,
     "status": "ok",
     "timestamp": 1602158022338,
     "user": {
      "displayName": "Pianalytix Vrec",
      "photoUrl": "",
      "userId": "08286299111597749388"
     },
     "user_tz": -330
    },
    "id": "6C-cyTFPm1xc",
    "outputId": "44c4a90a-c49e-4f55-ccc3-4662c6936fc8"
   },
   "outputs": [
    {
     "data": {
      "text/html": [
       "<div>\n",
       "<style scoped>\n",
       "    .dataframe tbody tr th:only-of-type {\n",
       "        vertical-align: middle;\n",
       "    }\n",
       "\n",
       "    .dataframe tbody tr th {\n",
       "        vertical-align: top;\n",
       "    }\n",
       "\n",
       "    .dataframe thead th {\n",
       "        text-align: right;\n",
       "    }\n",
       "</style>\n",
       "<table border=\"1\" class=\"dataframe\">\n",
       "  <thead>\n",
       "    <tr style=\"text-align: right;\">\n",
       "      <th></th>\n",
       "      <th>Age</th>\n",
       "      <th>Total_Bilirubin</th>\n",
       "      <th>Direct_Bilirubin</th>\n",
       "      <th>Alkaline_Phosphotase</th>\n",
       "      <th>Alamine_Aminotransferase</th>\n",
       "      <th>Aspartate_Aminotransferase</th>\n",
       "      <th>Total_Protiens</th>\n",
       "      <th>Albumin</th>\n",
       "      <th>Albumin_and_Globulin_Ratio</th>\n",
       "      <th>Gender_Female</th>\n",
       "      <th>Gender_Male</th>\n",
       "    </tr>\n",
       "  </thead>\n",
       "  <tbody>\n",
       "    <tr>\n",
       "      <th>0</th>\n",
       "      <td>65</td>\n",
       "      <td>0.7</td>\n",
       "      <td>0.1</td>\n",
       "      <td>187</td>\n",
       "      <td>16</td>\n",
       "      <td>18</td>\n",
       "      <td>6.8</td>\n",
       "      <td>3.3</td>\n",
       "      <td>0.90</td>\n",
       "      <td>1</td>\n",
       "      <td>0</td>\n",
       "    </tr>\n",
       "    <tr>\n",
       "      <th>1</th>\n",
       "      <td>62</td>\n",
       "      <td>10.9</td>\n",
       "      <td>5.5</td>\n",
       "      <td>699</td>\n",
       "      <td>64</td>\n",
       "      <td>100</td>\n",
       "      <td>7.5</td>\n",
       "      <td>3.2</td>\n",
       "      <td>0.74</td>\n",
       "      <td>0</td>\n",
       "      <td>1</td>\n",
       "    </tr>\n",
       "    <tr>\n",
       "      <th>2</th>\n",
       "      <td>62</td>\n",
       "      <td>7.3</td>\n",
       "      <td>4.1</td>\n",
       "      <td>490</td>\n",
       "      <td>60</td>\n",
       "      <td>68</td>\n",
       "      <td>7.0</td>\n",
       "      <td>3.3</td>\n",
       "      <td>0.89</td>\n",
       "      <td>0</td>\n",
       "      <td>1</td>\n",
       "    </tr>\n",
       "  </tbody>\n",
       "</table>\n",
       "</div>"
      ],
      "text/plain": [
       "   Age  Total_Bilirubin  Direct_Bilirubin  Alkaline_Phosphotase  \\\n",
       "0   65              0.7               0.1                   187   \n",
       "1   62             10.9               5.5                   699   \n",
       "2   62              7.3               4.1                   490   \n",
       "\n",
       "   Alamine_Aminotransferase  Aspartate_Aminotransferase  Total_Protiens  \\\n",
       "0                        16                          18             6.8   \n",
       "1                        64                         100             7.5   \n",
       "2                        60                          68             7.0   \n",
       "\n",
       "   Albumin  Albumin_and_Globulin_Ratio  Gender_Female  Gender_Male  \n",
       "0      3.3                        0.90              1            0  \n",
       "1      3.2                        0.74              0            1  \n",
       "2      3.3                        0.89              0            1  "
      ]
     },
     "execution_count": 32,
     "metadata": {},
     "output_type": "execute_result"
    }
   ],
   "source": [
    "X = liver_df.drop(['Gender','Dataset'], axis=1)\n",
    "X.head(3)"
   ]
  },
  {
   "cell_type": "code",
   "execution_count": 33,
   "metadata": {
    "executionInfo": {
     "elapsed": 220,
     "status": "ok",
     "timestamp": 1602158022340,
     "user": {
      "displayName": "Pianalytix Vrec",
      "photoUrl": "",
      "userId": "08286299111597749388"
     },
     "user_tz": -330
    },
    "id": "kNFjzQxPm1xv"
   },
   "outputs": [],
   "source": [
    "# In the Dataset 1 implies the patient have liver disease; 2 implies the patients do not have liver disease\n",
    "y = liver_df['Dataset']"
   ]
  },
  {
   "cell_type": "markdown",
   "metadata": {
    "id": "vPHGlErfm1xy"
   },
   "source": [
    "### Correlation between all the features"
   ]
  },
  {
   "cell_type": "code",
   "execution_count": 34,
   "metadata": {
    "colab": {
     "base_uri": "https://localhost:8080/",
     "height": 393
    },
    "executionInfo": {
     "elapsed": 203,
     "status": "ok",
     "timestamp": 1602158022341,
     "user": {
      "displayName": "Pianalytix Vrec",
      "photoUrl": "",
      "userId": "08286299111597749388"
     },
     "user_tz": -330
    },
    "id": "C9yqN6mDm1xy",
    "outputId": "46ac1360-f299-4f3f-cc4a-11e6523697fe"
   },
   "outputs": [
    {
     "data": {
      "text/html": [
       "<div>\n",
       "<style scoped>\n",
       "    .dataframe tbody tr th:only-of-type {\n",
       "        vertical-align: middle;\n",
       "    }\n",
       "\n",
       "    .dataframe tbody tr th {\n",
       "        vertical-align: top;\n",
       "    }\n",
       "\n",
       "    .dataframe thead th {\n",
       "        text-align: right;\n",
       "    }\n",
       "</style>\n",
       "<table border=\"1\" class=\"dataframe\">\n",
       "  <thead>\n",
       "    <tr style=\"text-align: right;\">\n",
       "      <th></th>\n",
       "      <th>Age</th>\n",
       "      <th>Total_Bilirubin</th>\n",
       "      <th>Direct_Bilirubin</th>\n",
       "      <th>Alkaline_Phosphotase</th>\n",
       "      <th>Alamine_Aminotransferase</th>\n",
       "      <th>Aspartate_Aminotransferase</th>\n",
       "      <th>Total_Protiens</th>\n",
       "      <th>Albumin</th>\n",
       "      <th>Albumin_and_Globulin_Ratio</th>\n",
       "      <th>Gender_Female</th>\n",
       "      <th>Gender_Male</th>\n",
       "    </tr>\n",
       "  </thead>\n",
       "  <tbody>\n",
       "    <tr>\n",
       "      <th>Age</th>\n",
       "      <td>1.000000</td>\n",
       "      <td>0.011763</td>\n",
       "      <td>0.007529</td>\n",
       "      <td>0.080425</td>\n",
       "      <td>-0.086883</td>\n",
       "      <td>-0.019910</td>\n",
       "      <td>-0.187461</td>\n",
       "      <td>-0.265924</td>\n",
       "      <td>-0.216089</td>\n",
       "      <td>-0.056560</td>\n",
       "      <td>0.056560</td>\n",
       "    </tr>\n",
       "    <tr>\n",
       "      <th>Total_Bilirubin</th>\n",
       "      <td>0.011763</td>\n",
       "      <td>1.000000</td>\n",
       "      <td>0.874618</td>\n",
       "      <td>0.206669</td>\n",
       "      <td>0.214065</td>\n",
       "      <td>0.237831</td>\n",
       "      <td>-0.008099</td>\n",
       "      <td>-0.222250</td>\n",
       "      <td>-0.206159</td>\n",
       "      <td>-0.089291</td>\n",
       "      <td>0.089291</td>\n",
       "    </tr>\n",
       "    <tr>\n",
       "      <th>Direct_Bilirubin</th>\n",
       "      <td>0.007529</td>\n",
       "      <td>0.874618</td>\n",
       "      <td>1.000000</td>\n",
       "      <td>0.234939</td>\n",
       "      <td>0.233894</td>\n",
       "      <td>0.257544</td>\n",
       "      <td>-0.000139</td>\n",
       "      <td>-0.228531</td>\n",
       "      <td>-0.200004</td>\n",
       "      <td>-0.100436</td>\n",
       "      <td>0.100436</td>\n",
       "    </tr>\n",
       "    <tr>\n",
       "      <th>Alkaline_Phosphotase</th>\n",
       "      <td>0.080425</td>\n",
       "      <td>0.206669</td>\n",
       "      <td>0.234939</td>\n",
       "      <td>1.000000</td>\n",
       "      <td>0.125680</td>\n",
       "      <td>0.167196</td>\n",
       "      <td>-0.028514</td>\n",
       "      <td>-0.165453</td>\n",
       "      <td>-0.233960</td>\n",
       "      <td>0.027496</td>\n",
       "      <td>-0.027496</td>\n",
       "    </tr>\n",
       "    <tr>\n",
       "      <th>Alamine_Aminotransferase</th>\n",
       "      <td>-0.086883</td>\n",
       "      <td>0.214065</td>\n",
       "      <td>0.233894</td>\n",
       "      <td>0.125680</td>\n",
       "      <td>1.000000</td>\n",
       "      <td>0.791966</td>\n",
       "      <td>-0.042518</td>\n",
       "      <td>-0.029742</td>\n",
       "      <td>-0.002374</td>\n",
       "      <td>-0.082332</td>\n",
       "      <td>0.082332</td>\n",
       "    </tr>\n",
       "    <tr>\n",
       "      <th>Aspartate_Aminotransferase</th>\n",
       "      <td>-0.019910</td>\n",
       "      <td>0.237831</td>\n",
       "      <td>0.257544</td>\n",
       "      <td>0.167196</td>\n",
       "      <td>0.791966</td>\n",
       "      <td>1.000000</td>\n",
       "      <td>-0.025645</td>\n",
       "      <td>-0.085290</td>\n",
       "      <td>-0.070024</td>\n",
       "      <td>-0.080336</td>\n",
       "      <td>0.080336</td>\n",
       "    </tr>\n",
       "    <tr>\n",
       "      <th>Total_Protiens</th>\n",
       "      <td>-0.187461</td>\n",
       "      <td>-0.008099</td>\n",
       "      <td>-0.000139</td>\n",
       "      <td>-0.028514</td>\n",
       "      <td>-0.042518</td>\n",
       "      <td>-0.025645</td>\n",
       "      <td>1.000000</td>\n",
       "      <td>0.784053</td>\n",
       "      <td>0.233904</td>\n",
       "      <td>0.089121</td>\n",
       "      <td>-0.089121</td>\n",
       "    </tr>\n",
       "    <tr>\n",
       "      <th>Albumin</th>\n",
       "      <td>-0.265924</td>\n",
       "      <td>-0.222250</td>\n",
       "      <td>-0.228531</td>\n",
       "      <td>-0.165453</td>\n",
       "      <td>-0.029742</td>\n",
       "      <td>-0.085290</td>\n",
       "      <td>0.784053</td>\n",
       "      <td>1.000000</td>\n",
       "      <td>0.686322</td>\n",
       "      <td>0.093799</td>\n",
       "      <td>-0.093799</td>\n",
       "    </tr>\n",
       "    <tr>\n",
       "      <th>Albumin_and_Globulin_Ratio</th>\n",
       "      <td>-0.216089</td>\n",
       "      <td>-0.206159</td>\n",
       "      <td>-0.200004</td>\n",
       "      <td>-0.233960</td>\n",
       "      <td>-0.002374</td>\n",
       "      <td>-0.070024</td>\n",
       "      <td>0.233904</td>\n",
       "      <td>0.686322</td>\n",
       "      <td>1.000000</td>\n",
       "      <td>0.003404</td>\n",
       "      <td>-0.003404</td>\n",
       "    </tr>\n",
       "    <tr>\n",
       "      <th>Gender_Female</th>\n",
       "      <td>-0.056560</td>\n",
       "      <td>-0.089291</td>\n",
       "      <td>-0.100436</td>\n",
       "      <td>0.027496</td>\n",
       "      <td>-0.082332</td>\n",
       "      <td>-0.080336</td>\n",
       "      <td>0.089121</td>\n",
       "      <td>0.093799</td>\n",
       "      <td>0.003404</td>\n",
       "      <td>1.000000</td>\n",
       "      <td>-1.000000</td>\n",
       "    </tr>\n",
       "    <tr>\n",
       "      <th>Gender_Male</th>\n",
       "      <td>0.056560</td>\n",
       "      <td>0.089291</td>\n",
       "      <td>0.100436</td>\n",
       "      <td>-0.027496</td>\n",
       "      <td>0.082332</td>\n",
       "      <td>0.080336</td>\n",
       "      <td>-0.089121</td>\n",
       "      <td>-0.093799</td>\n",
       "      <td>-0.003404</td>\n",
       "      <td>-1.000000</td>\n",
       "      <td>1.000000</td>\n",
       "    </tr>\n",
       "  </tbody>\n",
       "</table>\n",
       "</div>"
      ],
      "text/plain": [
       "                                 Age  Total_Bilirubin  Direct_Bilirubin  \\\n",
       "Age                         1.000000         0.011763          0.007529   \n",
       "Total_Bilirubin             0.011763         1.000000          0.874618   \n",
       "Direct_Bilirubin            0.007529         0.874618          1.000000   \n",
       "Alkaline_Phosphotase        0.080425         0.206669          0.234939   \n",
       "Alamine_Aminotransferase   -0.086883         0.214065          0.233894   \n",
       "Aspartate_Aminotransferase -0.019910         0.237831          0.257544   \n",
       "Total_Protiens             -0.187461        -0.008099         -0.000139   \n",
       "Albumin                    -0.265924        -0.222250         -0.228531   \n",
       "Albumin_and_Globulin_Ratio -0.216089        -0.206159         -0.200004   \n",
       "Gender_Female              -0.056560        -0.089291         -0.100436   \n",
       "Gender_Male                 0.056560         0.089291          0.100436   \n",
       "\n",
       "                            Alkaline_Phosphotase  Alamine_Aminotransferase  \\\n",
       "Age                                     0.080425                 -0.086883   \n",
       "Total_Bilirubin                         0.206669                  0.214065   \n",
       "Direct_Bilirubin                        0.234939                  0.233894   \n",
       "Alkaline_Phosphotase                    1.000000                  0.125680   \n",
       "Alamine_Aminotransferase                0.125680                  1.000000   \n",
       "Aspartate_Aminotransferase              0.167196                  0.791966   \n",
       "Total_Protiens                         -0.028514                 -0.042518   \n",
       "Albumin                                -0.165453                 -0.029742   \n",
       "Albumin_and_Globulin_Ratio             -0.233960                 -0.002374   \n",
       "Gender_Female                           0.027496                 -0.082332   \n",
       "Gender_Male                            -0.027496                  0.082332   \n",
       "\n",
       "                            Aspartate_Aminotransferase  Total_Protiens  \\\n",
       "Age                                          -0.019910       -0.187461   \n",
       "Total_Bilirubin                               0.237831       -0.008099   \n",
       "Direct_Bilirubin                              0.257544       -0.000139   \n",
       "Alkaline_Phosphotase                          0.167196       -0.028514   \n",
       "Alamine_Aminotransferase                      0.791966       -0.042518   \n",
       "Aspartate_Aminotransferase                    1.000000       -0.025645   \n",
       "Total_Protiens                               -0.025645        1.000000   \n",
       "Albumin                                      -0.085290        0.784053   \n",
       "Albumin_and_Globulin_Ratio                   -0.070024        0.233904   \n",
       "Gender_Female                                -0.080336        0.089121   \n",
       "Gender_Male                                   0.080336       -0.089121   \n",
       "\n",
       "                             Albumin  Albumin_and_Globulin_Ratio  \\\n",
       "Age                        -0.265924                   -0.216089   \n",
       "Total_Bilirubin            -0.222250                   -0.206159   \n",
       "Direct_Bilirubin           -0.228531                   -0.200004   \n",
       "Alkaline_Phosphotase       -0.165453                   -0.233960   \n",
       "Alamine_Aminotransferase   -0.029742                   -0.002374   \n",
       "Aspartate_Aminotransferase -0.085290                   -0.070024   \n",
       "Total_Protiens              0.784053                    0.233904   \n",
       "Albumin                     1.000000                    0.686322   \n",
       "Albumin_and_Globulin_Ratio  0.686322                    1.000000   \n",
       "Gender_Female               0.093799                    0.003404   \n",
       "Gender_Male                -0.093799                   -0.003404   \n",
       "\n",
       "                            Gender_Female  Gender_Male  \n",
       "Age                             -0.056560     0.056560  \n",
       "Total_Bilirubin                 -0.089291     0.089291  \n",
       "Direct_Bilirubin                -0.100436     0.100436  \n",
       "Alkaline_Phosphotase             0.027496    -0.027496  \n",
       "Alamine_Aminotransferase        -0.082332     0.082332  \n",
       "Aspartate_Aminotransferase      -0.080336     0.080336  \n",
       "Total_Protiens                   0.089121    -0.089121  \n",
       "Albumin                          0.093799    -0.093799  \n",
       "Albumin_and_Globulin_Ratio       0.003404    -0.003404  \n",
       "Gender_Female                    1.000000    -1.000000  \n",
       "Gender_Male                     -1.000000     1.000000  "
      ]
     },
     "execution_count": 34,
     "metadata": {},
     "output_type": "execute_result"
    }
   ],
   "source": [
    "liver_corr = X.corr()\n",
    "liver_corr"
   ]
  },
  {
   "cell_type": "code",
   "execution_count": 35,
   "metadata": {
    "colab": {
     "base_uri": "https://localhost:8080/",
     "height": 795
    },
    "executionInfo": {
     "elapsed": 190,
     "status": "ok",
     "timestamp": 1602158022345,
     "user": {
      "displayName": "Pianalytix Vrec",
      "photoUrl": "",
      "userId": "08286299111597749388"
     },
     "user_tz": -330
    },
    "id": "xph-lZ9Mm1x1",
    "outputId": "351d9a30-adf2-4435-c6d8-6008365e8f52"
   },
   "outputs": [
    {
     "data": {
      "text/plain": [
       "Text(0.5, 1.0, 'Correlation between all the features')"
      ]
     },
     "execution_count": 35,
     "metadata": {},
     "output_type": "execute_result"
    },
    {
     "data": {
      "image/png": "[encoded data removed]",
      "text/plain": [
       "<Figure size 864x864 with 2 Axes>"
      ]
     },
     "metadata": {
      "needs_background": "light"
     },
     "output_type": "display_data"
    }
   ],
   "source": [
    "# Plotting Heatmaps for Correlations between all the features\n",
    "plt.figure(figsize=(12,12))\n",
    "sns.heatmap(liver_corr, cbar = True,  square = True, annot=True, fmt= '.2f', annot_kws={'size': 12}, cmap= 'coolwarm')\n",
    "plt.title('Correlation between all the features')"
   ]
  },
  {
   "cell_type": "markdown",
   "metadata": {
    "id": "w2yyyQKUm1x5"
   },
   "source": [
    "### Splitting the data into Train and Test"
   ]
  },
  {
   "cell_type": "code",
   "execution_count": 36,
   "metadata": {
    "colab": {
     "base_uri": "https://localhost:8080/",
     "height": 84
    },
    "executionInfo": {
     "elapsed": 1018,
     "status": "ok",
     "timestamp": 1602157357924,
     "user": {
      "displayName": "Pianalytix Vrec",
      "photoUrl": "",
      "userId": "08286299111597749388"
     },
     "user_tz": -330
    },
    "id": "yjxiD7enm1x6",
    "outputId": "8650145e-b9be-467a-ac67-e43d57a6ee92"
   },
   "outputs": [
    {
     "name": "stdout",
     "output_type": "stream",
     "text": [
      "(390, 11)\n",
      "(390,)\n",
      "(193, 11)\n",
      "(193,)\n"
     ]
    }
   ],
   "source": [
    "X_train, X_test, y_train, y_test = train_test_split(X, y, test_size=0.33, random_state=42)\n",
    "print (X_train.shape)\n",
    "print (y_train.shape)\n",
    "print (X_test.shape)\n",
    "print (y_test.shape)"
   ]
  },
  {
   "cell_type": "markdown",
   "metadata": {
    "id": "cpyTlo4qm1x9"
   },
   "source": [
    "### Model Building"
   ]
  },
  {
   "cell_type": "markdown",
   "metadata": {
    "id": "FmouchfZm1x-"
   },
   "source": [
    "### 1. Logistic Regression"
   ]
  },
  {
   "cell_type": "code",
   "execution_count": 37,
   "metadata": {
    "colab": {
     "base_uri": "https://localhost:8080/",
     "height": 336
    },
    "executionInfo": {
     "elapsed": 1007,
     "status": "ok",
     "timestamp": 1602158183614,
     "user": {
      "displayName": "Pianalytix Vrec",
      "photoUrl": "",
      "userId": "08286299111597749388"
     },
     "user_tz": -330
    },
    "id": "EuMAJfOEm1x-",
    "outputId": "92116463-afcf-468f-b2d0-571e8bf37729"
   },
   "outputs": [
    {
     "name": "stdout",
     "output_type": "stream",
     "text": [
      "Logistic Regression Training Score: \n",
      " 70.77\n",
      "Logistic Regression Test Score: \n",
      " 72.54\n",
      "Accuracy: \n",
      " 0.7253886010362695\n",
      "Confusion Matrix: \n",
      " [[131  10]\n",
      " [ 43   9]]\n",
      "Classification Report: \n",
      "               precision    recall  f1-score   support\n",
      "\n",
      "           1       0.75      0.93      0.83       141\n",
      "           2       0.47      0.17      0.25        52\n",
      "\n",
      "    accuracy                           0.73       193\n",
      "   macro avg       0.61      0.55      0.54       193\n",
      "weighted avg       0.68      0.73      0.68       193\n",
      "\n"
     ]
    }
   ],
   "source": [
    "logreg = LogisticRegression()\n",
    "\n",
    "# Train the model using the training sets and check score\n",
    "logreg.fit(X_train, y_train)\n",
    "\n",
    "# Predict Output\n",
    "log_predicted= logreg.predict(X_test)\n",
    "\n",
    "logreg_score = round(logreg.score(X_train, y_train) * 100, 2)\n",
    "logreg_score_test = round(logreg.score(X_test, y_test) * 100, 2)\n",
    "\n",
    "# Equation coefficient and Intercept\n",
    "print('Logistic Regression Training Score: \\n', logreg_score)\n",
    "print('Logistic Regression Test Score: \\n', logreg_score_test)\n",
    "\n",
    "print('Accuracy: \\n', accuracy_score(y_test,log_predicted))\n",
    "print('Confusion Matrix: \\n', confusion_matrix(y_test,log_predicted))\n",
    "print('Classification Report: \\n', classification_report(y_test,log_predicted))"
   ]
  },
  {
   "cell_type": "markdown",
   "metadata": {
    "id": "E3bX0OCem1yA"
   },
   "source": [
    "### Confision Matrix"
   ]
  },
  {
   "cell_type": "code",
   "execution_count": 38,
   "metadata": {
    "colab": {
     "base_uri": "https://localhost:8080/",
     "height": 282
    },
    "executionInfo": {
     "elapsed": 985,
     "status": "ok",
     "timestamp": 1602159684689,
     "user": {
      "displayName": "Pianalytix Vrec",
      "photoUrl": "",
      "userId": "08286299111597749388"
     },
     "user_tz": -330
    },
    "id": "-GMKFyyBFfrk",
    "outputId": "a23c4776-7dcf-4f5b-bd7a-f6a2e7760955"
   },
   "outputs": [
    {
     "data": {
      "text/plain": [
       "<AxesSubplot:>"
      ]
     },
     "execution_count": 38,
     "metadata": {},
     "output_type": "execute_result"
    },
    {
     "data": {
      "image/png": "[encoded data removed]",
      "text/plain": [
       "<Figure size 432x288 with 2 Axes>"
      ]
     },
     "metadata": {
      "needs_background": "light"
     },
     "output_type": "display_data"
    }
   ],
   "source": [
    "sns.heatmap(confusion_matrix(y_test,log_predicted),annot=True,fmt=\"d\")"
   ]
  },
  {
   "cell_type": "markdown",
   "metadata": {
    "id": "U6uzGi-Em1yD"
   },
   "source": [
    "### 2. Gaussian Naive Bayes"
   ]
  },
  {
   "cell_type": "code",
   "execution_count": 39,
   "metadata": {
    "colab": {
     "base_uri": "https://localhost:8080/",
     "height": 302
    },
    "executionInfo": {
     "elapsed": 1138,
     "status": "ok",
     "timestamp": 1602159783014,
     "user": {
      "displayName": "Pianalytix Vrec",
      "photoUrl": "",
      "userId": "08286299111597749388"
     },
     "user_tz": -330
    },
    "id": "XjwUwkfpm1yD",
    "outputId": "782deafc-4867-4923-e21a-f35ef32f5fe7"
   },
   "outputs": [
    {
     "name": "stdout",
     "output_type": "stream",
     "text": [
      "Gaussian Score: \n",
      " 53.59\n",
      "Gaussian Test Score: \n",
      " 57.51\n",
      "Accuracy: \n",
      " 0.5751295336787565\n",
      "[[60 81]\n",
      " [ 1 51]]\n",
      "              precision    recall  f1-score   support\n",
      "\n",
      "           1       0.98      0.43      0.59       141\n",
      "           2       0.39      0.98      0.55        52\n",
      "\n",
      "    accuracy                           0.58       193\n",
      "   macro avg       0.68      0.70      0.57       193\n",
      "weighted avg       0.82      0.58      0.58       193\n",
      "\n"
     ]
    }
   ],
   "source": [
    "gaussian = GaussianNB()\n",
    "gaussian.fit(X_train, y_train)\n",
    "# Predict Output\n",
    "gauss_predicted = gaussian.predict(X_test)\n",
    "\n",
    "gauss_score = round(gaussian.score(X_train, y_train) * 100, 2)\n",
    "gauss_score_test = round(gaussian.score(X_test, y_test) * 100, 2)\n",
    "print('Gaussian Score: \\n', gauss_score)\n",
    "print('Gaussian Test Score: \\n', gauss_score_test)\n",
    "print('Accuracy: \\n', accuracy_score(y_test, gauss_predicted))\n",
    "print(confusion_matrix(y_test,gauss_predicted))\n",
    "print(classification_report(y_test,gauss_predicted))"
   ]
  },
  {
   "cell_type": "markdown",
   "metadata": {
    "id": "ohXiO622m1yF"
   },
   "source": [
    "### Confusion Matrix"
   ]
  },
  {
   "cell_type": "code",
   "execution_count": 40,
   "metadata": {
    "colab": {
     "base_uri": "https://localhost:8080/",
     "height": 284
    },
    "executionInfo": {
     "elapsed": 939,
     "status": "ok",
     "timestamp": 1602159829561,
     "user": {
      "displayName": "Pianalytix Vrec",
      "photoUrl": "",
      "userId": "08286299111597749388"
     },
     "user_tz": -330
    },
    "id": "KN7oOayYm1yG",
    "outputId": "2b36158a-4a53-4fe0-d3b0-654044e8f2cd"
   },
   "outputs": [
    {
     "data": {
      "text/plain": [
       "<AxesSubplot:>"
      ]
     },
     "execution_count": 40,
     "metadata": {},
     "output_type": "execute_result"
    },
    {
     "data": {
      "image/png": "[encoded data removed]",
      "text/plain": [
       "<Figure size 432x288 with 2 Axes>"
      ]
     },
     "metadata": {
      "needs_background": "light"
     },
     "output_type": "display_data"
    }
   ],
   "source": [
    "sns.heatmap(confusion_matrix(y_test,gauss_predicted),annot=True,fmt=\"d\")"
   ]
  },
  {
   "cell_type": "markdown",
   "metadata": {
    "id": "qEuvRTeum1yL"
   },
   "source": [
    "### 3. Random Forest"
   ]
  },
  {
   "cell_type": "code",
   "execution_count": 41,
   "metadata": {
    "colab": {
     "base_uri": "https://localhost:8080/",
     "height": 302
    },
    "executionInfo": {
     "elapsed": 1163,
     "status": "ok",
     "timestamp": 1602159892401,
     "user": {
      "displayName": "Pianalytix Vrec",
      "photoUrl": "",
      "userId": "08286299111597749388"
     },
     "user_tz": -330
    },
    "id": "mDxEwe_wm1yL",
    "outputId": "ae146b6f-5258-4614-abf9-12aa0b13a87f"
   },
   "outputs": [
    {
     "name": "stdout",
     "output_type": "stream",
     "text": [
      "Random Forest Score: \n",
      " 100.0\n",
      "Random Forest Test Score: \n",
      " 75.13\n",
      "Accuracy: \n",
      " 0.7512953367875648\n",
      "[[126  15]\n",
      " [ 33  19]]\n",
      "              precision    recall  f1-score   support\n",
      "\n",
      "           1       0.79      0.89      0.84       141\n",
      "           2       0.56      0.37      0.44        52\n",
      "\n",
      "    accuracy                           0.75       193\n",
      "   macro avg       0.68      0.63      0.64       193\n",
      "weighted avg       0.73      0.75      0.73       193\n",
      "\n"
     ]
    }
   ],
   "source": [
    "random_forest = RandomForestClassifier(n_estimators=100)\n",
    "random_forest.fit(X_train, y_train)\n",
    "# Predict Output\n",
    "rf_predicted = random_forest.predict(X_test)\n",
    "\n",
    "random_forest_score = round(random_forest.score(X_train, y_train) * 100, 2)\n",
    "random_forest_score_test = round(random_forest.score(X_test, y_test) * 100, 2)\n",
    "print('Random Forest Score: \\n', random_forest_score)\n",
    "print('Random Forest Test Score: \\n', random_forest_score_test)\n",
    "print('Accuracy: \\n', accuracy_score(y_test,rf_predicted))\n",
    "print(confusion_matrix(y_test,rf_predicted))\n",
    "print(classification_report(y_test,rf_predicted))"
   ]
  },
  {
   "cell_type": "markdown",
   "metadata": {
    "id": "uj1FMg-Gm1yN"
   },
   "source": [
    "### Confusion Matrix"
   ]
  },
  {
   "cell_type": "code",
   "execution_count": 42,
   "metadata": {
    "colab": {
     "base_uri": "https://localhost:8080/",
     "height": 282
    },
    "executionInfo": {
     "elapsed": 933,
     "status": "ok",
     "timestamp": 1602159939599,
     "user": {
      "displayName": "Pianalytix Vrec",
      "photoUrl": "",
      "userId": "08286299111597749388"
     },
     "user_tz": -330
    },
    "id": "u_mo4C-xm1yN",
    "outputId": "40ab5778-d2d6-4f6f-e7b8-2904240aea32"
   },
   "outputs": [
    {
     "data": {
      "text/plain": [
       "<AxesSubplot:>"
      ]
     },
     "execution_count": 42,
     "metadata": {},
     "output_type": "execute_result"
    },
    {
     "data": {
      "image/png": "[encoded data removed]",
      "text/plain": [
       "<Figure size 432x288 with 2 Axes>"
      ]
     },
     "metadata": {
      "needs_background": "light"
     },
     "output_type": "display_data"
    }
   ],
   "source": [
    "sns.heatmap(confusion_matrix(y_test,rf_predicted),annot=True,fmt=\"d\")"
   ]
  },
  {
   "cell_type": "markdown",
   "metadata": {
    "id": "QBPsGvvdm1yQ"
   },
   "source": [
    "### Model Evaluation"
   ]
  },
  {
   "cell_type": "code",
   "execution_count": 43,
   "metadata": {
    "colab": {
     "base_uri": "https://localhost:8080/",
     "height": 136
    },
    "executionInfo": {
     "elapsed": 1543,
     "status": "ok",
     "timestamp": 1602160021674,
     "user": {
      "displayName": "Pianalytix Vrec",
      "photoUrl": "",
      "userId": "08286299111597749388"
     },
     "user_tz": -330
    },
    "id": "KS5omEltm1yS",
    "outputId": "86f3755a-30b2-4cc2-c81c-93c719b9f2ec"
   },
   "outputs": [
    {
     "data": {
      "text/html": [
       "<div>\n",
       "<style scoped>\n",
       "    .dataframe tbody tr th:only-of-type {\n",
       "        vertical-align: middle;\n",
       "    }\n",
       "\n",
       "    .dataframe tbody tr th {\n",
       "        vertical-align: top;\n",
       "    }\n",
       "\n",
       "    .dataframe thead th {\n",
       "        text-align: right;\n",
       "    }\n",
       "</style>\n",
       "<table border=\"1\" class=\"dataframe\">\n",
       "  <thead>\n",
       "    <tr style=\"text-align: right;\">\n",
       "      <th></th>\n",
       "      <th>Model</th>\n",
       "      <th>Score</th>\n",
       "      <th>Test Score</th>\n",
       "    </tr>\n",
       "  </thead>\n",
       "  <tbody>\n",
       "    <tr>\n",
       "      <th>2</th>\n",
       "      <td>Random Forest</td>\n",
       "      <td>100.00</td>\n",
       "      <td>75.13</td>\n",
       "    </tr>\n",
       "    <tr>\n",
       "      <th>0</th>\n",
       "      <td>Logistic Regression</td>\n",
       "      <td>70.77</td>\n",
       "      <td>72.54</td>\n",
       "    </tr>\n",
       "    <tr>\n",
       "      <th>1</th>\n",
       "      <td>Gaussian Naive Bayes</td>\n",
       "      <td>53.59</td>\n",
       "      <td>57.51</td>\n",
       "    </tr>\n",
       "  </tbody>\n",
       "</table>\n",
       "</div>"
      ],
      "text/plain": [
       "                  Model   Score  Test Score\n",
       "2         Random Forest  100.00       75.13\n",
       "0   Logistic Regression   70.77       72.54\n",
       "1  Gaussian Naive Bayes   53.59       57.51"
      ]
     },
     "execution_count": 43,
     "metadata": {},
     "output_type": "execute_result"
    }
   ],
   "source": [
    "# Comparing all the models\n",
    "models = pd.DataFrame({\n",
    "    'Model': [ 'Logistic Regression', 'Gaussian Naive Bayes','Random Forest'],\n",
    "    'Score': [ logreg_score, gauss_score, random_forest_score],\n",
    "    'Test Score': [ logreg_score_test, gauss_score_test, random_forest_score_test]})\n",
    "models.sort_values(by='Test Score', ascending=False)"
   ]
  },
  {
   "cell_type": "markdown",
   "metadata": {
    "id": "v7zivd7nm1yU"
   },
   "source": [
    "### Conclusion"
   ]
  },
  {
   "cell_type": "markdown",
   "metadata": {
    "id": "lMjOpGJUm1yU"
   },
   "source": [
    "**From the Models (Logistic Regression, Gaussian Naive Bayes, Random Forest) Random Forest perform the best on this dataset**"
   ]
  },
  {
   "cell_type": "markdown",
   "metadata": {},
   "source": [
    "## Saving model"
   ]
  },
  {
   "cell_type": "code",
   "execution_count": 61,
   "metadata": {},
   "outputs": [
    {
     "data": {
      "text/plain": [
       "array([1, 1, 1, 1, 1, 1, 1, 2, 2, 1, 2, 1, 2, 2, 1, 1, 1, 1, 1, 1, 1, 1,\n",
       "       1, 1, 1, 1, 1, 1, 1, 2, 1, 1, 1, 2, 1, 1, 1, 1, 1, 1, 1, 2, 1, 1,\n",
       "       2, 1, 2, 2, 1, 1, 2, 1, 1, 1, 1, 2, 1, 2, 1, 1, 1, 1, 2, 1, 1, 1,\n",
       "       1, 1, 1, 1, 2, 1, 1, 1, 1, 1, 1, 2, 2, 1, 1, 1, 1, 1, 1, 1, 2, 1,\n",
       "       1, 1, 1, 1, 1, 1, 1, 1, 1, 1, 1, 2, 1, 1, 1, 1, 1, 1, 1, 1, 1, 1,\n",
       "       2, 1, 2, 1, 1, 1, 2, 1, 1, 1, 1, 1, 1, 1, 1, 1, 2, 1, 1, 1, 2, 1,\n",
       "       1, 1, 1, 1, 1, 1, 1, 2, 1, 1, 2, 2, 1, 2, 1, 1, 1, 1, 1, 1, 1, 1,\n",
       "       1, 1, 1, 1, 1, 1, 1, 1, 1, 2, 1, 1, 2, 1, 1, 2, 2, 1, 1, 1, 1, 1,\n",
       "       1, 1, 1, 1, 1, 2, 1, 1, 1, 1, 1, 1, 1, 1, 1, 1, 1], dtype=int64)"
      ]
     },
     "execution_count": 61,
     "metadata": {},
     "output_type": "execute_result"
    }
   ],
   "source": [
    "import pickle\n",
    " \n",
    "# Save the trained model as a pickle string.\n",
    "saved_model = pickle.dumps(random_forest)\n",
    " \n",
    "# Load the pickled model\n",
    "rf_from_pickle = pickle.loads(saved_model)\n",
    " \n",
    "# Use the loaded pickled model to make predictions\n",
    "rf_from_pickle.predict(X_test)"
   ]
  },
  {
   "cell_type": "markdown",
   "metadata": {},
   "source": [
    "### Another method"
   ]
  },
  {
   "cell_type": "code",
   "execution_count": 64,
   "metadata": {},
   "outputs": [],
   "source": [
    "# create an iterator object with write permission - model.pkl\n",
    "with open('liver_disease_prediction.pkl', 'wb') as files:\n",
    "    pickle.dump(random_forest, files)"
   ]
  },
  {
   "cell_type": "code",
   "execution_count": 65,
   "metadata": {},
   "outputs": [],
   "source": [
    " # load saved model\n",
    "with open('liver_disease_prediction.pkl' , 'rb') as f:\n",
    "    model = pickle.load(f)"
   ]
  },
  {
   "cell_type": "code",
   "execution_count": 66,
   "metadata": {},
   "outputs": [
    {
     "data": {
      "text/plain": [
       "array([1, 1, 1, 1, 1, 1, 1, 2, 2, 1, 2, 1, 2, 2, 1, 1, 1, 1, 1, 1, 1, 1,\n",
       "       1, 1, 1, 1, 1, 1, 1, 2, 1, 1, 1, 2, 1, 1, 1, 1, 1, 1, 1, 2, 1, 1,\n",
       "       2, 1, 2, 2, 1, 1, 2, 1, 1, 1, 1, 2, 1, 2, 1, 1, 1, 1, 2, 1, 1, 1,\n",
       "       1, 1, 1, 1, 2, 1, 1, 1, 1, 1, 1, 2, 2, 1, 1, 1, 1, 1, 1, 1, 2, 1,\n",
       "       1, 1, 1, 1, 1, 1, 1, 1, 1, 1, 1, 2, 1, 1, 1, 1, 1, 1, 1, 1, 1, 1,\n",
       "       2, 1, 2, 1, 1, 1, 2, 1, 1, 1, 1, 1, 1, 1, 1, 1, 2, 1, 1, 1, 2, 1,\n",
       "       1, 1, 1, 1, 1, 1, 1, 2, 1, 1, 2, 2, 1, 2, 1, 1, 1, 1, 1, 1, 1, 1,\n",
       "       1, 1, 1, 1, 1, 1, 1, 1, 1, 2, 1, 1, 2, 1, 1, 2, 2, 1, 1, 1, 1, 1,\n",
       "       1, 1, 1, 1, 1, 2, 1, 1, 1, 1, 1, 1, 1, 1, 1, 1, 1], dtype=int64)"
      ]
     },
     "execution_count": 66,
     "metadata": {},
     "output_type": "execute_result"
    }
   ],
   "source": [
    "# check prediction\n",
    "# lr.predict([[63,1,3,145,233,1,0,150,0,2.3,0,0,1]]) # similar\n",
    "\n",
    "random_forest.predict(X_test)"
   ]
  },
  {
   "cell_type": "code",
   "execution_count": 67,
   "metadata": {},
   "outputs": [
    {
     "data": {
      "text/html": [
       "<div>\n",
       "<style scoped>\n",
       "    .dataframe tbody tr th:only-of-type {\n",
       "        vertical-align: middle;\n",
       "    }\n",
       "\n",
       "    .dataframe tbody tr th {\n",
       "        vertical-align: top;\n",
       "    }\n",
       "\n",
       "    .dataframe thead th {\n",
       "        text-align: right;\n",
       "    }\n",
       "</style>\n",
       "<table border=\"1\" class=\"dataframe\">\n",
       "  <thead>\n",
       "    <tr style=\"text-align: right;\">\n",
       "      <th></th>\n",
       "      <th>Age</th>\n",
       "      <th>Gender</th>\n",
       "      <th>Total_Bilirubin</th>\n",
       "      <th>Direct_Bilirubin</th>\n",
       "      <th>Alkaline_Phosphotase</th>\n",
       "      <th>Alamine_Aminotransferase</th>\n",
       "      <th>Aspartate_Aminotransferase</th>\n",
       "      <th>Total_Protiens</th>\n",
       "      <th>Albumin</th>\n",
       "      <th>Albumin_and_Globulin_Ratio</th>\n",
       "      <th>Dataset</th>\n",
       "      <th>Gender_Female</th>\n",
       "      <th>Gender_Male</th>\n",
       "    </tr>\n",
       "  </thead>\n",
       "  <tbody>\n",
       "    <tr>\n",
       "      <th>0</th>\n",
       "      <td>65</td>\n",
       "      <td>Female</td>\n",
       "      <td>0.7</td>\n",
       "      <td>0.1</td>\n",
       "      <td>187</td>\n",
       "      <td>16</td>\n",
       "      <td>18</td>\n",
       "      <td>6.8</td>\n",
       "      <td>3.3</td>\n",
       "      <td>0.90</td>\n",
       "      <td>1</td>\n",
       "      <td>1</td>\n",
       "      <td>0</td>\n",
       "    </tr>\n",
       "    <tr>\n",
       "      <th>1</th>\n",
       "      <td>62</td>\n",
       "      <td>Male</td>\n",
       "      <td>10.9</td>\n",
       "      <td>5.5</td>\n",
       "      <td>699</td>\n",
       "      <td>64</td>\n",
       "      <td>100</td>\n",
       "      <td>7.5</td>\n",
       "      <td>3.2</td>\n",
       "      <td>0.74</td>\n",
       "      <td>1</td>\n",
       "      <td>0</td>\n",
       "      <td>1</td>\n",
       "    </tr>\n",
       "    <tr>\n",
       "      <th>2</th>\n",
       "      <td>62</td>\n",
       "      <td>Male</td>\n",
       "      <td>7.3</td>\n",
       "      <td>4.1</td>\n",
       "      <td>490</td>\n",
       "      <td>60</td>\n",
       "      <td>68</td>\n",
       "      <td>7.0</td>\n",
       "      <td>3.3</td>\n",
       "      <td>0.89</td>\n",
       "      <td>1</td>\n",
       "      <td>0</td>\n",
       "      <td>1</td>\n",
       "    </tr>\n",
       "    <tr>\n",
       "      <th>3</th>\n",
       "      <td>58</td>\n",
       "      <td>Male</td>\n",
       "      <td>1.0</td>\n",
       "      <td>0.4</td>\n",
       "      <td>182</td>\n",
       "      <td>14</td>\n",
       "      <td>20</td>\n",
       "      <td>6.8</td>\n",
       "      <td>3.4</td>\n",
       "      <td>1.00</td>\n",
       "      <td>1</td>\n",
       "      <td>0</td>\n",
       "      <td>1</td>\n",
       "    </tr>\n",
       "    <tr>\n",
       "      <th>4</th>\n",
       "      <td>72</td>\n",
       "      <td>Male</td>\n",
       "      <td>3.9</td>\n",
       "      <td>2.0</td>\n",
       "      <td>195</td>\n",
       "      <td>27</td>\n",
       "      <td>59</td>\n",
       "      <td>7.3</td>\n",
       "      <td>2.4</td>\n",
       "      <td>0.40</td>\n",
       "      <td>1</td>\n",
       "      <td>0</td>\n",
       "      <td>1</td>\n",
       "    </tr>\n",
       "  </tbody>\n",
       "</table>\n",
       "</div>"
      ],
      "text/plain": [
       "   Age  Gender  Total_Bilirubin  Direct_Bilirubin  Alkaline_Phosphotase  \\\n",
       "0   65  Female              0.7               0.1                   187   \n",
       "1   62    Male             10.9               5.5                   699   \n",
       "2   62    Male              7.3               4.1                   490   \n",
       "3   58    Male              1.0               0.4                   182   \n",
       "4   72    Male              3.9               2.0                   195   \n",
       "\n",
       "   Alamine_Aminotransferase  Aspartate_Aminotransferase  Total_Protiens  \\\n",
       "0                        16                          18             6.8   \n",
       "1                        64                         100             7.5   \n",
       "2                        60                          68             7.0   \n",
       "3                        14                          20             6.8   \n",
       "4                        27                          59             7.3   \n",
       "\n",
       "   Albumin  Albumin_and_Globulin_Ratio  Dataset  Gender_Female  Gender_Male  \n",
       "0      3.3                        0.90        1              1            0  \n",
       "1      3.2                        0.74        1              0            1  \n",
       "2      3.3                        0.89        1              0            1  \n",
       "3      3.4                        1.00        1              0            1  \n",
       "4      2.4                        0.40        1              0            1  "
      ]
     },
     "execution_count": 67,
     "metadata": {},
     "output_type": "execute_result"
    }
   ],
   "source": [
    "liver_df.head()"
   ]
  },
  {
   "cell_type": "code",
   "execution_count": 68,
   "metadata": {},
   "outputs": [
    {
     "data": {
      "text/html": [
       "<div>\n",
       "<style scoped>\n",
       "    .dataframe tbody tr th:only-of-type {\n",
       "        vertical-align: middle;\n",
       "    }\n",
       "\n",
       "    .dataframe tbody tr th {\n",
       "        vertical-align: top;\n",
       "    }\n",
       "\n",
       "    .dataframe thead th {\n",
       "        text-align: right;\n",
       "    }\n",
       "</style>\n",
       "<table border=\"1\" class=\"dataframe\">\n",
       "  <thead>\n",
       "    <tr style=\"text-align: right;\">\n",
       "      <th></th>\n",
       "      <th>Age</th>\n",
       "      <th>Total_Bilirubin</th>\n",
       "      <th>Direct_Bilirubin</th>\n",
       "      <th>Alkaline_Phosphotase</th>\n",
       "      <th>Alamine_Aminotransferase</th>\n",
       "      <th>Aspartate_Aminotransferase</th>\n",
       "      <th>Total_Protiens</th>\n",
       "      <th>Albumin</th>\n",
       "      <th>Albumin_and_Globulin_Ratio</th>\n",
       "      <th>Gender_Female</th>\n",
       "      <th>Gender_Male</th>\n",
       "    </tr>\n",
       "  </thead>\n",
       "  <tbody>\n",
       "    <tr>\n",
       "      <th>0</th>\n",
       "      <td>65</td>\n",
       "      <td>0.7</td>\n",
       "      <td>0.1</td>\n",
       "      <td>187</td>\n",
       "      <td>16</td>\n",
       "      <td>18</td>\n",
       "      <td>6.8</td>\n",
       "      <td>3.3</td>\n",
       "      <td>0.90</td>\n",
       "      <td>1</td>\n",
       "      <td>0</td>\n",
       "    </tr>\n",
       "    <tr>\n",
       "      <th>1</th>\n",
       "      <td>62</td>\n",
       "      <td>10.9</td>\n",
       "      <td>5.5</td>\n",
       "      <td>699</td>\n",
       "      <td>64</td>\n",
       "      <td>100</td>\n",
       "      <td>7.5</td>\n",
       "      <td>3.2</td>\n",
       "      <td>0.74</td>\n",
       "      <td>0</td>\n",
       "      <td>1</td>\n",
       "    </tr>\n",
       "    <tr>\n",
       "      <th>2</th>\n",
       "      <td>62</td>\n",
       "      <td>7.3</td>\n",
       "      <td>4.1</td>\n",
       "      <td>490</td>\n",
       "      <td>60</td>\n",
       "      <td>68</td>\n",
       "      <td>7.0</td>\n",
       "      <td>3.3</td>\n",
       "      <td>0.89</td>\n",
       "      <td>0</td>\n",
       "      <td>1</td>\n",
       "    </tr>\n",
       "    <tr>\n",
       "      <th>3</th>\n",
       "      <td>58</td>\n",
       "      <td>1.0</td>\n",
       "      <td>0.4</td>\n",
       "      <td>182</td>\n",
       "      <td>14</td>\n",
       "      <td>20</td>\n",
       "      <td>6.8</td>\n",
       "      <td>3.4</td>\n",
       "      <td>1.00</td>\n",
       "      <td>0</td>\n",
       "      <td>1</td>\n",
       "    </tr>\n",
       "    <tr>\n",
       "      <th>4</th>\n",
       "      <td>72</td>\n",
       "      <td>3.9</td>\n",
       "      <td>2.0</td>\n",
       "      <td>195</td>\n",
       "      <td>27</td>\n",
       "      <td>59</td>\n",
       "      <td>7.3</td>\n",
       "      <td>2.4</td>\n",
       "      <td>0.40</td>\n",
       "      <td>0</td>\n",
       "      <td>1</td>\n",
       "    </tr>\n",
       "  </tbody>\n",
       "</table>\n",
       "</div>"
      ],
      "text/plain": [
       "   Age  Total_Bilirubin  Direct_Bilirubin  Alkaline_Phosphotase  \\\n",
       "0   65              0.7               0.1                   187   \n",
       "1   62             10.9               5.5                   699   \n",
       "2   62              7.3               4.1                   490   \n",
       "3   58              1.0               0.4                   182   \n",
       "4   72              3.9               2.0                   195   \n",
       "\n",
       "   Alamine_Aminotransferase  Aspartate_Aminotransferase  Total_Protiens  \\\n",
       "0                        16                          18             6.8   \n",
       "1                        64                         100             7.5   \n",
       "2                        60                          68             7.0   \n",
       "3                        14                          20             6.8   \n",
       "4                        27                          59             7.3   \n",
       "\n",
       "   Albumin  Albumin_and_Globulin_Ratio  Gender_Female  Gender_Male  \n",
       "0      3.3                        0.90              1            0  \n",
       "1      3.2                        0.74              0            1  \n",
       "2      3.3                        0.89              0            1  \n",
       "3      3.4                        1.00              0            1  \n",
       "4      2.4                        0.40              0            1  "
      ]
     },
     "execution_count": 68,
     "metadata": {},
     "output_type": "execute_result"
    }
   ],
   "source": [
    "X.head()"
   ]
  },
  {
   "cell_type": "code",
   "execution_count": 58,
   "metadata": {},
   "outputs": [
    {
     "data": {
      "text/plain": [
       "Index(['Age', 'Total_Bilirubin', 'Direct_Bilirubin', 'Alkaline_Phosphotase',\n",
       "       'Alamine_Aminotransferase', 'Aspartate_Aminotransferase',\n",
       "       'Total_Protiens', 'Albumin', 'Albumin_and_Globulin_Ratio',\n",
       "       'Gender_Female', 'Gender_Male'],\n",
       "      dtype='object')"
      ]
     },
     "execution_count": 58,
     "metadata": {},
     "output_type": "execute_result"
    }
   ],
   "source": [
    "X.columns"
   ]
  },
  {
   "cell_type": "code",
   "execution_count": 54,
   "metadata": {},
   "outputs": [
    {
     "data": {
      "text/plain": [
       "array([1], dtype=int64)"
      ]
     },
     "execution_count": 54,
     "metadata": {},
     "output_type": "execute_result"
    }
   ],
   "source": [
    "# putting datapoints in the model it will either return 0 or 1 i.e. person having liver disease or not\n",
    "logreg.predict([[65,0.7,0.1,187,16,18,6.8,3.3,0.90,1,0]]) "
   ]
  }
 ],
 "metadata": {
  "_draft": {
   "nbviewer_url": "https://gist.github.com/0db94957d5f6763b294dd66907dcf366"
  },
  "colab": {
   "collapsed_sections": [
    "tG5rQ122m1wN",
    "sBnOxaJLm1wd",
    "n9i6ylMmm1xN",
    "vPHGlErfm1xy",
    "w2yyyQKUm1x5",
    "cpyTlo4qm1x9",
    "FmouchfZm1x-",
    "E3bX0OCem1yA",
    "U6uzGi-Em1yD",
    "ohXiO622m1yF",
    "qEuvRTeum1yL",
    "uj1FMg-Gm1yN",
    "QBPsGvvdm1yQ",
    "v7zivd7nm1yU",
    "lMjOpGJUm1yU"
   ],
   "name": "Indian Liver Patient Dataset Analysis.ipynb",
   "provenance": []
  },
  "gist": {
   "data": {
    "description": "Indian Liver Patient Dataset Analysis.ipynb",
    "public": true
   },
   "id": "0db94957d5f6763b294dd66907dcf366"
  },
  "kernelspec": {
   "display_name": "Python 3",
   "language": "python",
   "name": "python3"
  },
  "language_info": {
   "codemirror_mode": {
    "name": "ipython",
    "version": 3
   },
   "file_extension": ".py",
   "mimetype": "text/x-python",
   "name": "python",
   "nbconvert_exporter": "python",
   "pygments_lexer": "ipython3",
   "version": "3.8.5"
  },
  "varInspector": {
   "cols": {
    "lenName": 16,
    "lenType": 16,
    "lenVar": 40
   },
   "kernels_config": {
    "python": {
     "delete_cmd_postfix": "",
     "delete_cmd_prefix": "del ",
     "library": "var_list.py",
     "varRefreshCmd": "print(var_dic_list())"
    },
    "r": {
     "delete_cmd_postfix": ") ",
     "delete_cmd_prefix": "rm(",
     "library": "var_list.r",
     "varRefreshCmd": "cat(var_dic_list()) "
    }
   },
   "types_to_exclude": [
    "module",
    "function",
    "builtin_function_or_method",
    "instance",
    "_Feature"
   ],
   "window_display": false
  }
 },
 "nbformat": 4,
 "nbformat_minor": 1
}
